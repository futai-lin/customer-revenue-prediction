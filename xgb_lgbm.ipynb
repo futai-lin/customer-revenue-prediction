{
 "cells": [
  {
   "cell_type": "code",
   "execution_count": 1,
   "metadata": {},
   "outputs": [],
   "source": [
    "# data manipulation\n",
    "import pandas as pd\n",
    "import numpy as np\n",
    "\n",
    "# data visualization \n",
    "import matplotlib.pyplot as plt\n",
    "import seaborn as sns\n",
    "# json\n",
    "import json\n",
    "# sklearn\n",
    "from sklearn import preprocessing\n",
    "from sklearn.model_selection import train_test_split\n",
    "from sklearn import metrics\n",
    "\n",
    "# lgb\n",
    "import lightgbm as lgb\n",
    "\n",
    "# datatime\n",
    "import datetime\n",
    "\n",
    "import gc\n",
    "%matplotlib inline"
   ]
  },
  {
   "cell_type": "code",
   "execution_count": 2,
   "metadata": {},
   "outputs": [],
   "source": [
    "def load_df(csv_path, nrows=None):\n",
    "    '''\n",
    "    load csv file and convert json columns to normal columns\n",
    "    '''\n",
    "    json_columns = ['device', 'geoNetwork', 'totals', 'trafficSource']\n",
    "    df = pd.read_csv(csv_path,\n",
    "                     converters={column: json.loads for column in json_columns},\n",
    "                     dtype={'fullVisitorId': 'str'},\n",
    "                     nrows=nrows)\n",
    "    \n",
    "    for column in json_columns:\n",
    "        column_df = pd.io.json.json_normalize(list(df[column].values))\n",
    "        column_df.columns = [f'{column}.{sub_column}' for sub_column in column_df.columns]\n",
    "        df = df.drop(column, axis=1).join(column_df)\n",
    "        \n",
    "    return df"
   ]
  },
  {
   "cell_type": "code",
   "execution_count": 3,
   "metadata": {},
   "outputs": [],
   "source": [
    "# load and transform data\n",
    "train_df = load_df('train.csv')\n",
    "test_df = load_df('test.csv')"
   ]
  },
  {
   "cell_type": "code",
   "execution_count": 4,
   "metadata": {},
   "outputs": [],
   "source": [
    "from sklearn.model_selection import GroupKFold\n",
    "\n",
    "def get_oof(train_df, test_df, select_features):\n",
    "    \n",
    "    def get_fold(train_df, kfold = 5):   \n",
    "        '''\n",
    "        kfold based on unique fullVisitorId\n",
    "        '''\n",
    "        unique_vis = np.array(sorted(train_df['fullVisitorId'].unique()))\n",
    "        folds = GroupKFold(n_splits=kfold)\n",
    "        fold_ids = []\n",
    "        ids = np.arange(train_df.shape[0])\n",
    "        for train_vis, dev_vis in folds.split(X=unique_vis, y=unique_vis, groups=unique_vis):\n",
    "            fold_ids.append([\n",
    "                ids[train_df['fullVisitorId'].isin(unique_vis[train_vis])],\n",
    "                ids[train_df['fullVisitorId'].isin(unique_vis[dev_vis])]\n",
    "            ])\n",
    "        return fold_ids\n",
    "    \n",
    "    importances = pd.DataFrame()\n",
    "    train_df_y = train_df['totals.transactionRevenue'].values\n",
    "    oof_pred = np.zeros(train_df.shape[0])\n",
    "    test_pred = np.zeros(test_df.shape[0])\n",
    "    fold_ids = get_fold(train_df)\n",
    "    \n",
    "    for i, (train_idx, dev_idx) in enumerate(fold_ids):\n",
    "        print('processing {} fold: '.format(i))\n",
    "\n",
    "        train_id = train_df['fullVisitorId'].iloc[train_idx].values\n",
    "        train_X = train_df[select_features].iloc[train_idx]\n",
    "        train_y = train_df['totals.transactionRevenue'].iloc[train_idx].values\n",
    "        train_y = np.log1p(train_y)\n",
    "\n",
    "        dev_id = train_df['fullVisitorId'].iloc[dev_idx].values\n",
    "        dev_X = train_df[select_features].iloc[dev_idx]\n",
    "        dev_y = train_df['totals.transactionRevenue'].iloc[dev_idx].values  \n",
    "        dev_y = np.log1p(dev_y)\n",
    "        \n",
    "        test_id = test_df['fullVisitorId'].values\n",
    "        test_X = test_df[select_features].values\n",
    "        \n",
    "        reg = lgb.LGBMRegressor(\n",
    "            num_leaves=31,\n",
    "            learning_rate=0.03,\n",
    "            n_estimators=1000,\n",
    "            subsample=.9,\n",
    "            colsample_bytree=.9,\n",
    "            random_state=1)\n",
    "        \n",
    "        reg.fit(\n",
    "            train_X, train_y,\n",
    "            eval_set=[(dev_X, dev_y)],\n",
    "            early_stopping_rounds=50,\n",
    "            verbose=100,\n",
    "            eval_metric='rmse')\n",
    "        \n",
    "        imp_df = pd.DataFrame()\n",
    "        imp_df['feature'] = select_features\n",
    "        imp_df['gain'] = reg.booster_.feature_importance(importance_type='gain')\n",
    "        imp_df['fold'] = i + 1\n",
    "        importances = pd.concat([importances, imp_df], axis=0)\n",
    "        \n",
    "        pred_dev = reg.predict(dev_X, num_iteration=reg.best_iteration_)\n",
    "        pred_test = reg.predict(test_X, num_iteration=reg.best_iteration_)\n",
    "        pred_dev[pred_dev < 0] = 0\n",
    "        pred_test[pred_test < 0] = 0\n",
    "\n",
    "        oof_pred[dev_idx] = pred_dev\n",
    "        test_pred += np.expm1(pred_test) / len(fold_ids)\n",
    "        \n",
    "    # n fold rmse \n",
    "    oof_rmse_score = rmse(np.log1p(train_df_y), oof_pred)\n",
    "    print('fold rmse:{}'.format(oof_rmse_score))\n",
    "    \n",
    "    return oof_pred, test_pred, importances"
   ]
  },
  {
   "cell_type": "code",
   "execution_count": 5,
   "metadata": {},
   "outputs": [],
   "source": [
    "# define the metrics: rmse(root mean square error)\n",
    "def rmse(y, y0):\n",
    "    assert len(y) == len(y0)\n",
    "    return np.sqrt(np.mean(np.power((y - y0), 2)))"
   ]
  },
  {
   "cell_type": "markdown",
   "metadata": {},
   "source": [
    "### Session level"
   ]
  },
  {
   "cell_type": "code",
   "execution_count": 6,
   "metadata": {},
   "outputs": [],
   "source": [
    "num_columns = ['totals.bounces', 'totals.hits', 'totals.newVisits', 'totals.pageviews', 'visitNumber', 'visitStartTime']\n",
    "cat_columns = ['channelGrouping',\n",
    "               'device.browser',\n",
    "               'device.deviceCategory',\n",
    "               'device.operatingSystem',\n",
    "               'device.isMobile',\n",
    "               'geoNetwork.city',\n",
    "               'geoNetwork.continent',\n",
    "               'geoNetwork.country',\n",
    "               'geoNetwork.metro',\n",
    "               'geoNetwork.networkDomain',\n",
    "               'geoNetwork.region',\n",
    "               'geoNetwork.subContinent',\n",
    "               'trafficSource.adContent',\n",
    "               'trafficSource.campaign',\n",
    "               'trafficSource.isTrueDirect',\n",
    "               'trafficSource.keyword',\n",
    "               'trafficSource.medium',\n",
    "               'trafficSource.referralPath',\n",
    "               'trafficSource.source']"
   ]
  },
  {
   "cell_type": "code",
   "execution_count": 7,
   "metadata": {},
   "outputs": [],
   "source": [
    "# preprocess data, the select featrues are infered from the \n",
    "def preprocess(train_df, test_df, num_columns, cat_columns):\n",
    "    # encode categorical columns\n",
    "    for column in cat_columns:\n",
    "        lbl = preprocessing.LabelEncoder()\n",
    "        lbl.fit(list(train_df[column].values.astype('str')) + list(test_df[column].values.astype('str')))\n",
    "        train_df[column] = lbl.transform(list(train_df[column].values.astype('str')))\n",
    "        test_df[column] = lbl.transform(list(test_df[column].values.astype('str')))\n",
    "    \n",
    "    train_df[num_columns] = train_df[num_columns].fillna(0)\n",
    "    train_df[num_columns] = train_df[num_columns].astype(float)\n",
    "    test_df[num_columns] = test_df[num_columns].fillna(0)\n",
    "    test_df[num_columns] = test_df[num_columns].astype(float)\n",
    "    \n",
    "    train_df['totals.transactionRevenue'] = train_df['totals.transactionRevenue'].fillna(0)\n",
    "    train_df['totals.transactionRevenue'] = train_df['totals.transactionRevenue'].astype(float)\n",
    "    \n",
    "    return train_df, test_df"
   ]
  },
  {
   "cell_type": "code",
   "execution_count": 8,
   "metadata": {},
   "outputs": [],
   "source": [
    "train_df, test_df = preprocess(train_df, test_df, num_columns, cat_columns)"
   ]
  },
  {
   "cell_type": "code",
   "execution_count": 9,
   "metadata": {},
   "outputs": [
    {
     "name": "stdout",
     "output_type": "stream",
     "text": [
      "processing 0 fold: \n",
      "Training until validation scores don't improve for 50 rounds.\n",
      "[100]\tvalid_0's rmse: 1.65376\n",
      "[200]\tvalid_0's rmse: 1.63823\n",
      "[300]\tvalid_0's rmse: 1.63312\n",
      "[400]\tvalid_0's rmse: 1.63062\n",
      "[500]\tvalid_0's rmse: 1.62879\n",
      "[600]\tvalid_0's rmse: 1.62832\n",
      "Early stopping, best iteration is:\n",
      "[643]\tvalid_0's rmse: 1.62802\n",
      "processing 1 fold: \n",
      "Training until validation scores don't improve for 50 rounds.\n",
      "[100]\tvalid_0's rmse: 1.63182\n",
      "[200]\tvalid_0's rmse: 1.61938\n",
      "[300]\tvalid_0's rmse: 1.61564\n",
      "[400]\tvalid_0's rmse: 1.61244\n",
      "Early stopping, best iteration is:\n",
      "[441]\tvalid_0's rmse: 1.61116\n",
      "processing 2 fold: \n",
      "Training until validation scores don't improve for 50 rounds.\n",
      "[100]\tvalid_0's rmse: 1.63867\n",
      "[200]\tvalid_0's rmse: 1.62228\n",
      "[300]\tvalid_0's rmse: 1.61554\n",
      "[400]\tvalid_0's rmse: 1.61161\n",
      "[500]\tvalid_0's rmse: 1.60924\n",
      "[600]\tvalid_0's rmse: 1.60792\n",
      "Early stopping, best iteration is:\n",
      "[600]\tvalid_0's rmse: 1.60792\n",
      "processing 3 fold: \n",
      "Training until validation scores don't improve for 50 rounds.\n",
      "[100]\tvalid_0's rmse: 1.62224\n",
      "[200]\tvalid_0's rmse: 1.6069\n",
      "[300]\tvalid_0's rmse: 1.60134\n",
      "[400]\tvalid_0's rmse: 1.5983\n",
      "[500]\tvalid_0's rmse: 1.59662\n",
      "[600]\tvalid_0's rmse: 1.59581\n",
      "[700]\tvalid_0's rmse: 1.59561\n",
      "Early stopping, best iteration is:\n",
      "[695]\tvalid_0's rmse: 1.5955\n",
      "processing 4 fold: \n",
      "Training until validation scores don't improve for 50 rounds.\n",
      "[100]\tvalid_0's rmse: 1.66123\n",
      "[200]\tvalid_0's rmse: 1.64712\n",
      "[300]\tvalid_0's rmse: 1.63987\n",
      "[400]\tvalid_0's rmse: 1.63717\n",
      "[500]\tvalid_0's rmse: 1.63509\n",
      "[600]\tvalid_0's rmse: 1.63421\n",
      "Early stopping, best iteration is:\n",
      "[645]\tvalid_0's rmse: 1.63408\n",
      "fold rmse:1.6148695532667532\n"
     ]
    }
   ],
   "source": [
    "oof_pred, test_pred, importances = get_oof(train_df, test_df, num_columns+cat_columns)"
   ]
  },
  {
   "cell_type": "code",
   "execution_count": 10,
   "metadata": {},
   "outputs": [],
   "source": [
    "# create time series features\n",
    "def create_time_features(df):\n",
    "    df['visitDate'] = pd.to_datetime(df['visitStartTime'], unit='s')\n",
    "    df['dow'] = df['visitDate'].dt.dayofweek\n",
    "    df['hours'] = df['visitDate'].dt.hour\n",
    "    df['dom'] = df['visitDate'].dt.day\n",
    "    df.sort_values(['fullVisitorId', 'visitDate'], ascending=True, inplace=True)\n",
    "    df['nextSession1'] = (df['visitDate'] - df[['fullVisitorId', 'visitDate']].groupby('fullVisitorId')['visitDate'].shift(1)).astype(np.int64) // 1e9 // 60 // 60\n",
    "    df['nextSession2'] = (df['visitDate'] - df[['fullVisitorId', 'visitDate']].groupby('fullVisitorId')['visitDate'].shift(-1)).astype(np.int64) // 1e9 // 60 // 60\n",
    "    df['pageviews_per_day'] = df['date'].map(df[['date', 'totals.pageviews']].groupby('date')['totals.pageviews'].sum())\n",
    "    df['ratio_pageviews'] = df['totals.pageviews'] / df['pageviews_per_day']\n",
    "    df = df.sort_index()\n",
    "    return df"
   ]
  },
  {
   "cell_type": "code",
   "execution_count": 11,
   "metadata": {},
   "outputs": [],
   "source": [
    "train_df, test_df = create_time_features(train_df), create_time_features(test_df)"
   ]
  },
  {
   "cell_type": "code",
   "execution_count": 12,
   "metadata": {},
   "outputs": [],
   "source": [
    "additional_columns = ['dow', 'hours', 'dom', 'nextSession1', 'nextSession2', 'ratio_pageviews', 'pageviews_per_day']"
   ]
  },
  {
   "cell_type": "code",
   "execution_count": 13,
   "metadata": {},
   "outputs": [],
   "source": [
    "num_columns = [num_column for num_column in num_columns if num_column != 'visitStartTime']"
   ]
  },
  {
   "cell_type": "code",
   "execution_count": 14,
   "metadata": {},
   "outputs": [
    {
     "name": "stdout",
     "output_type": "stream",
     "text": [
      "processing 0 fold: \n",
      "Training until validation scores don't improve for 50 rounds.\n",
      "[100]\tvalid_0's rmse: 1.64033\n",
      "[200]\tvalid_0's rmse: 1.62351\n",
      "[300]\tvalid_0's rmse: 1.6179\n",
      "[400]\tvalid_0's rmse: 1.61532\n",
      "[500]\tvalid_0's rmse: 1.61303\n",
      "[600]\tvalid_0's rmse: 1.61129\n",
      "[700]\tvalid_0's rmse: 1.6095\n",
      "[800]\tvalid_0's rmse: 1.60886\n",
      "Early stopping, best iteration is:\n",
      "[848]\tvalid_0's rmse: 1.60838\n",
      "processing 1 fold: \n",
      "Training until validation scores don't improve for 50 rounds.\n",
      "[100]\tvalid_0's rmse: 1.61646\n",
      "[200]\tvalid_0's rmse: 1.60197\n",
      "[300]\tvalid_0's rmse: 1.59731\n",
      "[400]\tvalid_0's rmse: 1.59349\n",
      "[500]\tvalid_0's rmse: 1.59248\n",
      "[600]\tvalid_0's rmse: 1.59181\n",
      "Early stopping, best iteration is:\n",
      "[607]\tvalid_0's rmse: 1.5916\n",
      "processing 2 fold: \n",
      "Training until validation scores don't improve for 50 rounds.\n",
      "[100]\tvalid_0's rmse: 1.61963\n",
      "[200]\tvalid_0's rmse: 1.59922\n",
      "[300]\tvalid_0's rmse: 1.59271\n",
      "[400]\tvalid_0's rmse: 1.58855\n",
      "[500]\tvalid_0's rmse: 1.5865\n",
      "[600]\tvalid_0's rmse: 1.58523\n",
      "Early stopping, best iteration is:\n",
      "[645]\tvalid_0's rmse: 1.58416\n",
      "processing 3 fold: \n",
      "Training until validation scores don't improve for 50 rounds.\n",
      "[100]\tvalid_0's rmse: 1.61321\n",
      "[200]\tvalid_0's rmse: 1.59606\n",
      "[300]\tvalid_0's rmse: 1.59039\n",
      "[400]\tvalid_0's rmse: 1.58735\n",
      "[500]\tvalid_0's rmse: 1.58549\n",
      "[600]\tvalid_0's rmse: 1.58486\n",
      "[700]\tvalid_0's rmse: 1.58422\n",
      "[800]\tvalid_0's rmse: 1.58316\n",
      "[900]\tvalid_0's rmse: 1.58286\n",
      "Early stopping, best iteration is:\n",
      "[853]\tvalid_0's rmse: 1.58269\n",
      "processing 4 fold: \n",
      "Training until validation scores don't improve for 50 rounds.\n",
      "[100]\tvalid_0's rmse: 1.64318\n",
      "[200]\tvalid_0's rmse: 1.62419\n",
      "[300]\tvalid_0's rmse: 1.61782\n",
      "[400]\tvalid_0's rmse: 1.61349\n",
      "[500]\tvalid_0's rmse: 1.61112\n",
      "[600]\tvalid_0's rmse: 1.60971\n",
      "[700]\tvalid_0's rmse: 1.60851\n",
      "[800]\tvalid_0's rmse: 1.60796\n",
      "Early stopping, best iteration is:\n",
      "[759]\tvalid_0's rmse: 1.60775\n",
      "fold rmse:1.5942395372521325\n"
     ]
    }
   ],
   "source": [
    "oof_pred, test_pred, importances = get_oof(train_df, test_df, num_columns+cat_columns+additional_columns)"
   ]
  },
  {
   "cell_type": "code",
   "execution_count": 16,
   "metadata": {},
   "outputs": [],
   "source": [
    "# display feature importance\n",
    "importances['gain_log'] = np.log1p(importances['gain'])\n",
    "mean_gain = importances[['feature', 'gain']].groupby('feature').mean()\n",
    "importances['mean_gain'] = importances['feature'].map(mean_gain['gain'])"
   ]
  },
  {
   "cell_type": "code",
   "execution_count": 17,
   "metadata": {},
   "outputs": [
    {
     "data": {
      "text/plain": [
       "<matplotlib.axes._subplots.AxesSubplot at 0x7fc58306ca20>"
      ]
     },
     "execution_count": 17,
     "metadata": {},
     "output_type": "execute_result"
    },
    {
     "data": {
      "image/png": "[encoded data removed]",
      "text/plain": [
       "<Figure size 576x864 with 1 Axes>"
      ]
     },
     "metadata": {},
     "output_type": "display_data"
    }
   ],
   "source": [
    "plt.figure(figsize=(8, 12))\n",
    "sns.barplot(x='gain_log', y='feature', data=importances.sort_values('mean_gain', ascending=False))"
   ]
  },
  {
   "cell_type": "code",
   "execution_count": 49,
   "metadata": {},
   "outputs": [],
   "source": [
    "pred_dev = pd.DataFrame()\n",
    "pred_dev[['fullVisitorId', 'totals.transactionRevenue']] = train_df[['fullVisitorId', 'totals.transactionRevenue']]\n",
    "pred_dev['predRevenue'] = np.expm1(oof_pred)"
   ]
  },
  {
   "cell_type": "code",
   "execution_count": 52,
   "metadata": {},
   "outputs": [],
   "source": [
    "pred_dev = pred_dev.groupby('fullVisitorId')[['totals.transactionRevenue', 'predRevenue']].sum().reset_index()"
   ]
  },
  {
   "cell_type": "code",
   "execution_count": 53,
   "metadata": {},
   "outputs": [
    {
     "data": {
      "text/plain": [
       "1.595345450974619"
      ]
     },
     "execution_count": 53,
     "metadata": {},
     "output_type": "execute_result"
    }
   ],
   "source": [
    "rmse(np.log1p(pred_dev['totals.transactionRevenue']), np.log1p(pred_dev['predRevenue']))"
   ]
  },
  {
   "cell_type": "markdown",
   "metadata": {},
   "source": [
    "### Visitor level"
   ]
  },
  {
   "cell_type": "code",
   "execution_count": 18,
   "metadata": {},
   "outputs": [],
   "source": [
    "train_df['prediction'] = np.expm1(oof_pred)\n",
    "test_df['prediction'] = test_pred"
   ]
  },
  {
   "cell_type": "code",
   "execution_count": 19,
   "metadata": {},
   "outputs": [],
   "source": [
    "train_visitor = train_df[num_columns+cat_columns+additional_columns+['fullVisitorId']].groupby('fullVisitorId').mean()\n",
    "train_visitor_y = train_df[['totals.transactionRevenue', 'fullVisitorId']].groupby('fullVisitorId').sum()\n",
    "train_visitor = pd.concat([train_visitor, train_visitor_y], axis=1)"
   ]
  },
  {
   "cell_type": "code",
   "execution_count": 20,
   "metadata": {},
   "outputs": [],
   "source": [
    "train_pred_list = train_df[['fullVisitorId', 'prediction']]\\\n",
    ".groupby('fullVisitorId')\\\n",
    ".apply(lambda x: list(x.prediction))\\\n",
    ".apply(lambda x: {'pred_'+str(i):pred for i, pred in enumerate(x)})"
   ]
  },
  {
   "cell_type": "code",
   "execution_count": 21,
   "metadata": {},
   "outputs": [],
   "source": [
    "train_pred_df = pd.DataFrame(list(train_pred_list.values), index=train_pred_list.index)"
   ]
  },
  {
   "cell_type": "code",
   "execution_count": 22,
   "metadata": {},
   "outputs": [],
   "source": [
    "train_features = train_pred_df.columns"
   ]
  },
  {
   "cell_type": "code",
   "execution_count": 23,
   "metadata": {},
   "outputs": [],
   "source": [
    "def aggregate_predictions(df, pred_features):\n",
    "    df['log_mean_pred'] = np.log1p(df[pred_features].mean(axis=1))\n",
    "    df['log_median_pred'] = np.log1p(df[pred_features].median(axis=1))\n",
    "    df['log_sum_pred'] = np.log1p(df[pred_features].fillna(0).sum(axis=1))\n",
    "    df['sum_log_pred'] = np.log1p(df[pred_features]).sum(axis=1)\n",
    "    df['nb_session'] = len(pred_features) - df[pred_features].isnull().sum(axis=1)\n",
    "    return df"
   ]
  },
  {
   "cell_type": "code",
   "execution_count": 24,
   "metadata": {},
   "outputs": [
    {
     "name": "stderr",
     "output_type": "stream",
     "text": [
      "/home/data/anaconda3/lib/python3.6/site-packages/ipykernel_launcher.py:5: RuntimeWarning: invalid value encountered in log1p\n",
      "  \"\"\"\n"
     ]
    }
   ],
   "source": [
    "train_pred_df = aggregate_predictions(train_pred_df, train_features)"
   ]
  },
  {
   "cell_type": "code",
   "execution_count": 25,
   "metadata": {},
   "outputs": [
    {
     "data": {
      "text/html": [
       "<div>\n",
       "<style scoped>\n",
       "    .dataframe tbody tr th:only-of-type {\n",
       "        vertical-align: middle;\n",
       "    }\n",
       "\n",
       "    .dataframe tbody tr th {\n",
       "        vertical-align: top;\n",
       "    }\n",
       "\n",
       "    .dataframe thead th {\n",
       "        text-align: right;\n",
       "    }\n",
       "</style>\n",
       "<table border=\"1\" class=\"dataframe\">\n",
       "  <thead>\n",
       "    <tr style=\"text-align: right;\">\n",
       "      <th></th>\n",
       "      <th>pred_0</th>\n",
       "      <th>pred_1</th>\n",
       "      <th>pred_10</th>\n",
       "      <th>pred_100</th>\n",
       "      <th>pred_101</th>\n",
       "      <th>pred_102</th>\n",
       "      <th>pred_103</th>\n",
       "      <th>pred_104</th>\n",
       "      <th>pred_105</th>\n",
       "      <th>pred_106</th>\n",
       "      <th>...</th>\n",
       "      <th>pred_95</th>\n",
       "      <th>pred_96</th>\n",
       "      <th>pred_97</th>\n",
       "      <th>pred_98</th>\n",
       "      <th>pred_99</th>\n",
       "      <th>log_mean_pred</th>\n",
       "      <th>log_median_pred</th>\n",
       "      <th>log_sum_pred</th>\n",
       "      <th>sum_log_pred</th>\n",
       "      <th>nb_session</th>\n",
       "    </tr>\n",
       "    <tr>\n",
       "      <th>fullVisitorId</th>\n",
       "      <th></th>\n",
       "      <th></th>\n",
       "      <th></th>\n",
       "      <th></th>\n",
       "      <th></th>\n",
       "      <th></th>\n",
       "      <th></th>\n",
       "      <th></th>\n",
       "      <th></th>\n",
       "      <th></th>\n",
       "      <th></th>\n",
       "      <th></th>\n",
       "      <th></th>\n",
       "      <th></th>\n",
       "      <th></th>\n",
       "      <th></th>\n",
       "      <th></th>\n",
       "      <th></th>\n",
       "      <th></th>\n",
       "      <th></th>\n",
       "      <th></th>\n",
       "    </tr>\n",
       "  </thead>\n",
       "  <tbody>\n",
       "    <tr>\n",
       "      <th>0000010278554503158</th>\n",
       "      <td>0.000000</td>\n",
       "      <td>NaN</td>\n",
       "      <td>NaN</td>\n",
       "      <td>NaN</td>\n",
       "      <td>NaN</td>\n",
       "      <td>NaN</td>\n",
       "      <td>NaN</td>\n",
       "      <td>NaN</td>\n",
       "      <td>NaN</td>\n",
       "      <td>NaN</td>\n",
       "      <td>...</td>\n",
       "      <td>NaN</td>\n",
       "      <td>NaN</td>\n",
       "      <td>NaN</td>\n",
       "      <td>NaN</td>\n",
       "      <td>NaN</td>\n",
       "      <td>0.000000</td>\n",
       "      <td>0.000000</td>\n",
       "      <td>0.000000</td>\n",
       "      <td>0.000000</td>\n",
       "      <td>1</td>\n",
       "    </tr>\n",
       "    <tr>\n",
       "      <th>0000020424342248747</th>\n",
       "      <td>0.058475</td>\n",
       "      <td>NaN</td>\n",
       "      <td>NaN</td>\n",
       "      <td>NaN</td>\n",
       "      <td>NaN</td>\n",
       "      <td>NaN</td>\n",
       "      <td>NaN</td>\n",
       "      <td>NaN</td>\n",
       "      <td>NaN</td>\n",
       "      <td>NaN</td>\n",
       "      <td>...</td>\n",
       "      <td>NaN</td>\n",
       "      <td>NaN</td>\n",
       "      <td>NaN</td>\n",
       "      <td>NaN</td>\n",
       "      <td>NaN</td>\n",
       "      <td>0.056829</td>\n",
       "      <td>0.056829</td>\n",
       "      <td>0.056829</td>\n",
       "      <td>0.056829</td>\n",
       "      <td>1</td>\n",
       "    </tr>\n",
       "    <tr>\n",
       "      <th>0000027376579751715</th>\n",
       "      <td>0.003758</td>\n",
       "      <td>NaN</td>\n",
       "      <td>NaN</td>\n",
       "      <td>NaN</td>\n",
       "      <td>NaN</td>\n",
       "      <td>NaN</td>\n",
       "      <td>NaN</td>\n",
       "      <td>NaN</td>\n",
       "      <td>NaN</td>\n",
       "      <td>NaN</td>\n",
       "      <td>...</td>\n",
       "      <td>NaN</td>\n",
       "      <td>NaN</td>\n",
       "      <td>NaN</td>\n",
       "      <td>NaN</td>\n",
       "      <td>NaN</td>\n",
       "      <td>0.003751</td>\n",
       "      <td>0.003751</td>\n",
       "      <td>0.003751</td>\n",
       "      <td>0.003751</td>\n",
       "      <td>1</td>\n",
       "    </tr>\n",
       "    <tr>\n",
       "      <th>0000039460501403861</th>\n",
       "      <td>0.001630</td>\n",
       "      <td>NaN</td>\n",
       "      <td>NaN</td>\n",
       "      <td>NaN</td>\n",
       "      <td>NaN</td>\n",
       "      <td>NaN</td>\n",
       "      <td>NaN</td>\n",
       "      <td>NaN</td>\n",
       "      <td>NaN</td>\n",
       "      <td>NaN</td>\n",
       "      <td>...</td>\n",
       "      <td>NaN</td>\n",
       "      <td>NaN</td>\n",
       "      <td>NaN</td>\n",
       "      <td>NaN</td>\n",
       "      <td>NaN</td>\n",
       "      <td>0.001629</td>\n",
       "      <td>0.001629</td>\n",
       "      <td>0.001629</td>\n",
       "      <td>0.001629</td>\n",
       "      <td>1</td>\n",
       "    </tr>\n",
       "    <tr>\n",
       "      <th>0000040862739425590</th>\n",
       "      <td>0.000000</td>\n",
       "      <td>0.003198</td>\n",
       "      <td>NaN</td>\n",
       "      <td>NaN</td>\n",
       "      <td>NaN</td>\n",
       "      <td>NaN</td>\n",
       "      <td>NaN</td>\n",
       "      <td>NaN</td>\n",
       "      <td>NaN</td>\n",
       "      <td>NaN</td>\n",
       "      <td>...</td>\n",
       "      <td>NaN</td>\n",
       "      <td>NaN</td>\n",
       "      <td>NaN</td>\n",
       "      <td>NaN</td>\n",
       "      <td>NaN</td>\n",
       "      <td>0.001597</td>\n",
       "      <td>0.001597</td>\n",
       "      <td>0.003192</td>\n",
       "      <td>0.003192</td>\n",
       "      <td>2</td>\n",
       "    </tr>\n",
       "  </tbody>\n",
       "</table>\n",
       "<p>5 rows × 283 columns</p>\n",
       "</div>"
      ],
      "text/plain": [
       "                       pred_0    pred_1  pred_10  pred_100  pred_101  \\\n",
       "fullVisitorId                                                          \n",
       "0000010278554503158  0.000000       NaN      NaN       NaN       NaN   \n",
       "0000020424342248747  0.058475       NaN      NaN       NaN       NaN   \n",
       "0000027376579751715  0.003758       NaN      NaN       NaN       NaN   \n",
       "0000039460501403861  0.001630       NaN      NaN       NaN       NaN   \n",
       "0000040862739425590  0.000000  0.003198      NaN       NaN       NaN   \n",
       "\n",
       "                     pred_102  pred_103  pred_104  pred_105  pred_106  \\\n",
       "fullVisitorId                                                           \n",
       "0000010278554503158       NaN       NaN       NaN       NaN       NaN   \n",
       "0000020424342248747       NaN       NaN       NaN       NaN       NaN   \n",
       "0000027376579751715       NaN       NaN       NaN       NaN       NaN   \n",
       "0000039460501403861       NaN       NaN       NaN       NaN       NaN   \n",
       "0000040862739425590       NaN       NaN       NaN       NaN       NaN   \n",
       "\n",
       "                        ...      pred_95  pred_96  pred_97  pred_98  pred_99  \\\n",
       "fullVisitorId           ...                                                    \n",
       "0000010278554503158     ...          NaN      NaN      NaN      NaN      NaN   \n",
       "0000020424342248747     ...          NaN      NaN      NaN      NaN      NaN   \n",
       "0000027376579751715     ...          NaN      NaN      NaN      NaN      NaN   \n",
       "0000039460501403861     ...          NaN      NaN      NaN      NaN      NaN   \n",
       "0000040862739425590     ...          NaN      NaN      NaN      NaN      NaN   \n",
       "\n",
       "                     log_mean_pred  log_median_pred  log_sum_pred  \\\n",
       "fullVisitorId                                                       \n",
       "0000010278554503158       0.000000         0.000000      0.000000   \n",
       "0000020424342248747       0.056829         0.056829      0.056829   \n",
       "0000027376579751715       0.003751         0.003751      0.003751   \n",
       "0000039460501403861       0.001629         0.001629      0.001629   \n",
       "0000040862739425590       0.001597         0.001597      0.003192   \n",
       "\n",
       "                     sum_log_pred  nb_session  \n",
       "fullVisitorId                                  \n",
       "0000010278554503158      0.000000           1  \n",
       "0000020424342248747      0.056829           1  \n",
       "0000027376579751715      0.003751           1  \n",
       "0000039460501403861      0.001629           1  \n",
       "0000040862739425590      0.003192           2  \n",
       "\n",
       "[5 rows x 283 columns]"
      ]
     },
     "execution_count": 25,
     "metadata": {},
     "output_type": "execute_result"
    }
   ],
   "source": [
    "train_pred_df.head()"
   ]
  },
  {
   "cell_type": "code",
   "execution_count": 26,
   "metadata": {},
   "outputs": [],
   "source": [
    "train_visitor = pd.concat([train_visitor, train_pred_df], axis=1)"
   ]
  },
  {
   "cell_type": "code",
   "execution_count": 27,
   "metadata": {},
   "outputs": [
    {
     "data": {
      "text/plain": [
       "118"
      ]
     },
     "execution_count": 27,
     "metadata": {},
     "output_type": "execute_result"
    }
   ],
   "source": [
    "del train_pred_df, train_pred_list\n",
    "gc.collect()"
   ]
  },
  {
   "cell_type": "code",
   "execution_count": 28,
   "metadata": {},
   "outputs": [],
   "source": [
    "test_visitor = test_df[num_columns+cat_columns+additional_columns+['fullVisitorId']].groupby('fullVisitorId').mean()"
   ]
  },
  {
   "cell_type": "code",
   "execution_count": 29,
   "metadata": {},
   "outputs": [],
   "source": [
    "test_pred_list = test_df[['fullVisitorId', 'prediction']]\\\n",
    ".groupby('fullVisitorId')\\\n",
    ".apply(lambda x: list(x.prediction))\\\n",
    ".apply(lambda x: {'pred_'+str(i):pred for i, pred in enumerate(x)})"
   ]
  },
  {
   "cell_type": "code",
   "execution_count": 30,
   "metadata": {},
   "outputs": [],
   "source": [
    "test_pred_df = pd.DataFrame(list(test_pred_list.values), index=test_pred_list.index)"
   ]
  },
  {
   "cell_type": "code",
   "execution_count": 32,
   "metadata": {},
   "outputs": [],
   "source": [
    "for i in train_features:\n",
    "    if i not in test_pred_df.columns:\n",
    "        test_pred_df[i] = np.nan"
   ]
  },
  {
   "cell_type": "code",
   "execution_count": 33,
   "metadata": {},
   "outputs": [
    {
     "name": "stderr",
     "output_type": "stream",
     "text": [
      "/home/data/anaconda3/lib/python3.6/site-packages/ipykernel_launcher.py:5: RuntimeWarning: invalid value encountered in log1p\n",
      "  \"\"\"\n"
     ]
    }
   ],
   "source": [
    "test_pred_df = aggregate_predictions(test_pred_df, train_features)"
   ]
  },
  {
   "cell_type": "code",
   "execution_count": 35,
   "metadata": {},
   "outputs": [],
   "source": [
    "test_visitor = pd.concat([test_visitor, test_pred_df], axis=1)"
   ]
  },
  {
   "cell_type": "code",
   "execution_count": 36,
   "metadata": {},
   "outputs": [
    {
     "data": {
      "text/html": [
       "<div>\n",
       "<style scoped>\n",
       "    .dataframe tbody tr th:only-of-type {\n",
       "        vertical-align: middle;\n",
       "    }\n",
       "\n",
       "    .dataframe tbody tr th {\n",
       "        vertical-align: top;\n",
       "    }\n",
       "\n",
       "    .dataframe thead th {\n",
       "        text-align: right;\n",
       "    }\n",
       "</style>\n",
       "<table border=\"1\" class=\"dataframe\">\n",
       "  <thead>\n",
       "    <tr style=\"text-align: right;\">\n",
       "      <th></th>\n",
       "      <th>totals.bounces</th>\n",
       "      <th>totals.hits</th>\n",
       "      <th>totals.newVisits</th>\n",
       "      <th>totals.pageviews</th>\n",
       "      <th>visitNumber</th>\n",
       "      <th>channelGrouping</th>\n",
       "      <th>device.browser</th>\n",
       "      <th>device.deviceCategory</th>\n",
       "      <th>device.operatingSystem</th>\n",
       "      <th>device.isMobile</th>\n",
       "      <th>...</th>\n",
       "      <th>pred_273</th>\n",
       "      <th>pred_274</th>\n",
       "      <th>pred_275</th>\n",
       "      <th>pred_276</th>\n",
       "      <th>pred_277</th>\n",
       "      <th>log_mean_pred</th>\n",
       "      <th>log_median_pred</th>\n",
       "      <th>log_sum_pred</th>\n",
       "      <th>sum_log_pred</th>\n",
       "      <th>nb_session</th>\n",
       "    </tr>\n",
       "    <tr>\n",
       "      <th>fullVisitorId</th>\n",
       "      <th></th>\n",
       "      <th></th>\n",
       "      <th></th>\n",
       "      <th></th>\n",
       "      <th></th>\n",
       "      <th></th>\n",
       "      <th></th>\n",
       "      <th></th>\n",
       "      <th></th>\n",
       "      <th></th>\n",
       "      <th></th>\n",
       "      <th></th>\n",
       "      <th></th>\n",
       "      <th></th>\n",
       "      <th></th>\n",
       "      <th></th>\n",
       "      <th></th>\n",
       "      <th></th>\n",
       "      <th></th>\n",
       "      <th></th>\n",
       "      <th></th>\n",
       "    </tr>\n",
       "  </thead>\n",
       "  <tbody>\n",
       "    <tr>\n",
       "      <th>0000000259678714014</th>\n",
       "      <td>0.0</td>\n",
       "      <td>9.5</td>\n",
       "      <td>0.500000</td>\n",
       "      <td>6.5</td>\n",
       "      <td>1.5</td>\n",
       "      <td>4.0</td>\n",
       "      <td>35.0</td>\n",
       "      <td>0.0</td>\n",
       "      <td>7.0</td>\n",
       "      <td>0.0</td>\n",
       "      <td>...</td>\n",
       "      <td>NaN</td>\n",
       "      <td>NaN</td>\n",
       "      <td>NaN</td>\n",
       "      <td>NaN</td>\n",
       "      <td>NaN</td>\n",
       "      <td>0.211481</td>\n",
       "      <td>0.211481</td>\n",
       "      <td>0.385951</td>\n",
       "      <td>0.386056</td>\n",
       "      <td>2</td>\n",
       "    </tr>\n",
       "    <tr>\n",
       "      <th>0000049363351866189</th>\n",
       "      <td>1.0</td>\n",
       "      <td>1.0</td>\n",
       "      <td>0.333333</td>\n",
       "      <td>1.0</td>\n",
       "      <td>2.0</td>\n",
       "      <td>2.0</td>\n",
       "      <td>35.0</td>\n",
       "      <td>0.0</td>\n",
       "      <td>3.0</td>\n",
       "      <td>0.0</td>\n",
       "      <td>...</td>\n",
       "      <td>NaN</td>\n",
       "      <td>NaN</td>\n",
       "      <td>NaN</td>\n",
       "      <td>NaN</td>\n",
       "      <td>NaN</td>\n",
       "      <td>0.003126</td>\n",
       "      <td>0.004000</td>\n",
       "      <td>0.009349</td>\n",
       "      <td>0.009375</td>\n",
       "      <td>3</td>\n",
       "    </tr>\n",
       "    <tr>\n",
       "      <th>0000053049821714864</th>\n",
       "      <td>1.0</td>\n",
       "      <td>1.0</td>\n",
       "      <td>1.000000</td>\n",
       "      <td>1.0</td>\n",
       "      <td>1.0</td>\n",
       "      <td>1.0</td>\n",
       "      <td>73.0</td>\n",
       "      <td>1.0</td>\n",
       "      <td>23.0</td>\n",
       "      <td>1.0</td>\n",
       "      <td>...</td>\n",
       "      <td>NaN</td>\n",
       "      <td>NaN</td>\n",
       "      <td>NaN</td>\n",
       "      <td>NaN</td>\n",
       "      <td>NaN</td>\n",
       "      <td>0.000000</td>\n",
       "      <td>0.000000</td>\n",
       "      <td>0.000000</td>\n",
       "      <td>0.000000</td>\n",
       "      <td>1</td>\n",
       "    </tr>\n",
       "    <tr>\n",
       "      <th>0000059488412965267</th>\n",
       "      <td>1.0</td>\n",
       "      <td>1.0</td>\n",
       "      <td>0.333333</td>\n",
       "      <td>1.0</td>\n",
       "      <td>2.0</td>\n",
       "      <td>2.0</td>\n",
       "      <td>35.0</td>\n",
       "      <td>1.0</td>\n",
       "      <td>1.0</td>\n",
       "      <td>1.0</td>\n",
       "      <td>...</td>\n",
       "      <td>NaN</td>\n",
       "      <td>NaN</td>\n",
       "      <td>NaN</td>\n",
       "      <td>NaN</td>\n",
       "      <td>NaN</td>\n",
       "      <td>0.002847</td>\n",
       "      <td>0.002131</td>\n",
       "      <td>0.008516</td>\n",
       "      <td>0.008536</td>\n",
       "      <td>3</td>\n",
       "    </tr>\n",
       "    <tr>\n",
       "      <th>0000085840370633780</th>\n",
       "      <td>0.0</td>\n",
       "      <td>2.0</td>\n",
       "      <td>1.000000</td>\n",
       "      <td>2.0</td>\n",
       "      <td>1.0</td>\n",
       "      <td>4.0</td>\n",
       "      <td>72.0</td>\n",
       "      <td>0.0</td>\n",
       "      <td>7.0</td>\n",
       "      <td>0.0</td>\n",
       "      <td>...</td>\n",
       "      <td>NaN</td>\n",
       "      <td>NaN</td>\n",
       "      <td>NaN</td>\n",
       "      <td>NaN</td>\n",
       "      <td>NaN</td>\n",
       "      <td>0.004336</td>\n",
       "      <td>0.004336</td>\n",
       "      <td>0.004336</td>\n",
       "      <td>0.004336</td>\n",
       "      <td>1</td>\n",
       "    </tr>\n",
       "  </tbody>\n",
       "</table>\n",
       "<p>5 rows × 314 columns</p>\n",
       "</div>"
      ],
      "text/plain": [
       "                     totals.bounces  totals.hits  totals.newVisits  \\\n",
       "fullVisitorId                                                        \n",
       "0000000259678714014             0.0          9.5          0.500000   \n",
       "0000049363351866189             1.0          1.0          0.333333   \n",
       "0000053049821714864             1.0          1.0          1.000000   \n",
       "0000059488412965267             1.0          1.0          0.333333   \n",
       "0000085840370633780             0.0          2.0          1.000000   \n",
       "\n",
       "                     totals.pageviews  visitNumber  channelGrouping  \\\n",
       "fullVisitorId                                                         \n",
       "0000000259678714014               6.5          1.5              4.0   \n",
       "0000049363351866189               1.0          2.0              2.0   \n",
       "0000053049821714864               1.0          1.0              1.0   \n",
       "0000059488412965267               1.0          2.0              2.0   \n",
       "0000085840370633780               2.0          1.0              4.0   \n",
       "\n",
       "                     device.browser  device.deviceCategory  \\\n",
       "fullVisitorId                                                \n",
       "0000000259678714014            35.0                    0.0   \n",
       "0000049363351866189            35.0                    0.0   \n",
       "0000053049821714864            73.0                    1.0   \n",
       "0000059488412965267            35.0                    1.0   \n",
       "0000085840370633780            72.0                    0.0   \n",
       "\n",
       "                     device.operatingSystem  device.isMobile     ...      \\\n",
       "fullVisitorId                                                    ...       \n",
       "0000000259678714014                     7.0              0.0     ...       \n",
       "0000049363351866189                     3.0              0.0     ...       \n",
       "0000053049821714864                    23.0              1.0     ...       \n",
       "0000059488412965267                     1.0              1.0     ...       \n",
       "0000085840370633780                     7.0              0.0     ...       \n",
       "\n",
       "                     pred_273  pred_274  pred_275  pred_276  pred_277  \\\n",
       "fullVisitorId                                                           \n",
       "0000000259678714014       NaN       NaN       NaN       NaN       NaN   \n",
       "0000049363351866189       NaN       NaN       NaN       NaN       NaN   \n",
       "0000053049821714864       NaN       NaN       NaN       NaN       NaN   \n",
       "0000059488412965267       NaN       NaN       NaN       NaN       NaN   \n",
       "0000085840370633780       NaN       NaN       NaN       NaN       NaN   \n",
       "\n",
       "                     log_mean_pred  log_median_pred  log_sum_pred  \\\n",
       "fullVisitorId                                                       \n",
       "0000000259678714014       0.211481         0.211481      0.385951   \n",
       "0000049363351866189       0.003126         0.004000      0.009349   \n",
       "0000053049821714864       0.000000         0.000000      0.000000   \n",
       "0000059488412965267       0.002847         0.002131      0.008516   \n",
       "0000085840370633780       0.004336         0.004336      0.004336   \n",
       "\n",
       "                     sum_log_pred  nb_session  \n",
       "fullVisitorId                                  \n",
       "0000000259678714014      0.386056           2  \n",
       "0000049363351866189      0.009375           3  \n",
       "0000053049821714864      0.000000           1  \n",
       "0000059488412965267      0.008536           3  \n",
       "0000085840370633780      0.004336           1  \n",
       "\n",
       "[5 rows x 314 columns]"
      ]
     },
     "execution_count": 36,
     "metadata": {},
     "output_type": "execute_result"
    }
   ],
   "source": [
    "test_visitor.head()"
   ]
  },
  {
   "cell_type": "code",
   "execution_count": 34,
   "metadata": {},
   "outputs": [
    {
     "data": {
      "text/plain": [
       "215"
      ]
     },
     "execution_count": 34,
     "metadata": {},
     "output_type": "execute_result"
    }
   ],
   "source": [
    "del test_pred_list, test_pred_df, train_df, test_df\n",
    "gc.collect()"
   ]
  },
  {
   "cell_type": "code",
   "execution_count": 37,
   "metadata": {},
   "outputs": [],
   "source": [
    "train_visitor = train_visitor.reset_index()\n",
    "test_visitor = test_visitor.reset_index()"
   ]
  },
  {
   "cell_type": "code",
   "execution_count": 38,
   "metadata": {},
   "outputs": [],
   "source": [
    "total_features = [x for x in train_visitor.columns if x not in ['fullVisitorId', 'totals.transactionRevenue']]"
   ]
  },
  {
   "cell_type": "code",
   "execution_count": 40,
   "metadata": {},
   "outputs": [],
   "source": [
    "total_features = [x for x in total_features if x not in train_features]"
   ]
  },
  {
   "cell_type": "code",
   "execution_count": 42,
   "metadata": {},
   "outputs": [],
   "source": [
    "train_visitor = train_visitor[total_features+['fullVisitorId', 'totals.transactionRevenue']]\n",
    "test_visitor = test_visitor[total_features+['fullVisitorId']]"
   ]
  },
  {
   "cell_type": "code",
   "execution_count": 44,
   "metadata": {},
   "outputs": [
    {
     "name": "stdout",
     "output_type": "stream",
     "text": [
      "processing 0 fold: \n",
      "Training until validation scores don't improve for 50 rounds.\n",
      "[100]\tvalid_0's rmse: 1.5789\n",
      "Early stopping, best iteration is:\n",
      "[149]\tvalid_0's rmse: 1.5767\n",
      "processing 1 fold: \n",
      "Training until validation scores don't improve for 50 rounds.\n",
      "[100]\tvalid_0's rmse: 1.5853\n",
      "[200]\tvalid_0's rmse: 1.58195\n",
      "Early stopping, best iteration is:\n",
      "[172]\tvalid_0's rmse: 1.5814\n",
      "processing 2 fold: \n",
      "Training until validation scores don't improve for 50 rounds.\n",
      "[100]\tvalid_0's rmse: 1.57644\n",
      "[200]\tvalid_0's rmse: 1.57412\n",
      "Early stopping, best iteration is:\n",
      "[170]\tvalid_0's rmse: 1.5735\n",
      "processing 3 fold: \n",
      "Training until validation scores don't improve for 50 rounds.\n",
      "[100]\tvalid_0's rmse: 1.56131\n",
      "[200]\tvalid_0's rmse: 1.55878\n",
      "Early stopping, best iteration is:\n",
      "[206]\tvalid_0's rmse: 1.55874\n",
      "processing 4 fold: \n",
      "Training until validation scores don't improve for 50 rounds.\n",
      "[100]\tvalid_0's rmse: 1.58193\n",
      "[200]\tvalid_0's rmse: 1.58058\n",
      "Early stopping, best iteration is:\n",
      "[195]\tvalid_0's rmse: 1.5805\n",
      "fold rmse:1.5741795935920222\n"
     ]
    }
   ],
   "source": [
    "oof_pred, test_pred, importances = get_oof(train_visitor, test_visitor, total_features)"
   ]
  },
  {
   "cell_type": "code",
   "execution_count": 46,
   "metadata": {},
   "outputs": [
    {
     "data": {
      "text/plain": [
       "617242"
      ]
     },
     "execution_count": 46,
     "metadata": {},
     "output_type": "execute_result"
    }
   ],
   "source": [
    "len(test_pred)"
   ]
  },
  {
   "cell_type": "code",
   "execution_count": 49,
   "metadata": {},
   "outputs": [
    {
     "data": {
      "text/plain": [
       "617242"
      ]
     },
     "execution_count": 49,
     "metadata": {},
     "output_type": "execute_result"
    }
   ],
   "source": [
    "len(test_visitor)"
   ]
  },
  {
   "cell_type": "code",
   "execution_count": 50,
   "metadata": {},
   "outputs": [],
   "source": [
    "submission = pd.read_csv('sample_submission.csv')\n",
    "test_id = test_df['fullVisitorId'].values\n",
    "pred_test_df = pd.DataFrame({'fullVisitorID': test_visitor['fullVisitorId'].values})\n",
    "pred_test_df['predict'] = test_pred\n",
    "pred_test_df = pred_test_df.groupby('fullVisitorID')['predict'].sum().reset_index()\n",
    "pred_test_df['predict'] = np.log1p(pred_test_df['predict'].values)\n",
    "\n",
    "submission = submission.merge(pred_test_df, left_on='fullVisitorId', right_on='fullVisitorID')\n",
    "submission =submission.drop(['PredictedLogRevenue', 'fullVisitorID'], axis=1)\n",
    "submission.columns = ['fullVisitorId', 'PredictedLogRevenue']"
   ]
  },
  {
   "cell_type": "code",
   "execution_count": 51,
   "metadata": {},
   "outputs": [
    {
     "data": {
      "text/html": [
       "<div>\n",
       "<style scoped>\n",
       "    .dataframe tbody tr th:only-of-type {\n",
       "        vertical-align: middle;\n",
       "    }\n",
       "\n",
       "    .dataframe tbody tr th {\n",
       "        vertical-align: top;\n",
       "    }\n",
       "\n",
       "    .dataframe thead th {\n",
       "        text-align: right;\n",
       "    }\n",
       "</style>\n",
       "<table border=\"1\" class=\"dataframe\">\n",
       "  <thead>\n",
       "    <tr style=\"text-align: right;\">\n",
       "      <th></th>\n",
       "      <th>fullVisitorId</th>\n",
       "      <th>PredictedLogRevenue</th>\n",
       "    </tr>\n",
       "  </thead>\n",
       "  <tbody>\n",
       "    <tr>\n",
       "      <th>0</th>\n",
       "      <td>0000000259678714014</td>\n",
       "      <td>0.167732</td>\n",
       "    </tr>\n",
       "    <tr>\n",
       "      <th>1</th>\n",
       "      <td>0000049363351866189</td>\n",
       "      <td>0.004888</td>\n",
       "    </tr>\n",
       "    <tr>\n",
       "      <th>2</th>\n",
       "      <td>0000053049821714864</td>\n",
       "      <td>0.004744</td>\n",
       "    </tr>\n",
       "    <tr>\n",
       "      <th>3</th>\n",
       "      <td>0000059488412965267</td>\n",
       "      <td>0.004888</td>\n",
       "    </tr>\n",
       "    <tr>\n",
       "      <th>4</th>\n",
       "      <td>0000085840370633780</td>\n",
       "      <td>0.004744</td>\n",
       "    </tr>\n",
       "  </tbody>\n",
       "</table>\n",
       "</div>"
      ],
      "text/plain": [
       "         fullVisitorId  PredictedLogRevenue\n",
       "0  0000000259678714014             0.167732\n",
       "1  0000049363351866189             0.004888\n",
       "2  0000053049821714864             0.004744\n",
       "3  0000059488412965267             0.004888\n",
       "4  0000085840370633780             0.004744"
      ]
     },
     "execution_count": 51,
     "metadata": {},
     "output_type": "execute_result"
    }
   ],
   "source": [
    "submission.head()"
   ]
  },
  {
   "cell_type": "code",
   "execution_count": 52,
   "metadata": {},
   "outputs": [],
   "source": [
    "submission.to_csv('lgb_submission.csv', index=0)"
   ]
  }
 ],
 "metadata": {
  "kernelspec": {
   "display_name": "Python 3",
   "language": "python",
   "name": "python3"
  },
  "language_info": {
   "codemirror_mode": {
    "name": "ipython",
    "version": 3
   },
   "file_extension": ".py",
   "mimetype": "text/x-python",
   "name": "python",
   "nbconvert_exporter": "python",
   "pygments_lexer": "ipython3",
   "version": "3.6.5"
  }
 },
 "nbformat": 4,
 "nbformat_minor": 2
}
