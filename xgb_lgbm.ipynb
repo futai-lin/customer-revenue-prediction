{
 "cells": [
  {
   "cell_type": "code",
   "execution_count": 1,
   "metadata": {},
   "outputs": [],
   "source": [
    "# data manipulation\n",
    "import pandas as pd\n",
    "import numpy as np\n",
    "\n",
    "# data visualization \n",
    "import matplotlib.pyplot as plt\n",
    "# json\n",
    "import json\n",
    "# sklearn\n",
    "from sklearn import preprocessing\n",
    "from sklearn.model_selection import train_test_split\n",
    "from sklearn import metrics\n",
    "\n",
    "# lgb\n",
    "import lightgbm as lgb\n",
    "\n",
    "# datatime\n",
    "import datetime\n",
    "%matplotlib inline"
   ]
  },
  {
   "cell_type": "code",
   "execution_count": 2,
   "metadata": {},
   "outputs": [],
   "source": [
    "def load_df(csv_path, nrows=None):\n",
    "    '''\n",
    "    load csv file and convert json columns to normal columns\n",
    "    '''\n",
    "    json_columns = ['device', 'geoNetwork', 'totals', 'trafficSource']\n",
    "    df = pd.read_csv(csv_path,\n",
    "                     converters={column: json.loads for column in json_columns},\n",
    "                     dtype={'fullVisitorId': 'str'},\n",
    "                     nrows=nrows)\n",
    "    \n",
    "    for column in json_columns:\n",
    "        column_df = pd.io.json.json_normalize(list(df[column].values))\n",
    "        column_df.columns = [f'{column}.{sub_column}' for sub_column in column_df.columns]\n",
    "        df = df.drop(column, axis=1).join(column_df)\n",
    "        \n",
    "    return df"
   ]
  },
  {
   "cell_type": "code",
   "execution_count": 36,
   "metadata": {},
   "outputs": [],
   "source": [
    "# load and transform data\n",
    "train_df = load_df('train.csv')\n",
    "test_df = load_df('test.csv')"
   ]
  },
  {
   "cell_type": "code",
   "execution_count": 106,
   "metadata": {},
   "outputs": [],
   "source": [
    "def run_lgb(X_train, y_train, X_dev, y_dev, X_test):\n",
    "    '''\n",
    "    wrap train, dev and test dataset in LGB\n",
    "    '''\n",
    "    params = {'learning_rate': 0.03,\n",
    "            'objective':'regression',\n",
    "            'metric':'rmse',\n",
    "            'num_leaves': 31,\n",
    "            'verbose': 1,\n",
    "            \"subsample\": 0.99,\n",
    "            \"colsample_bytree\": 0.99,\n",
    "            \"random_state\":42,\n",
    "            'max_depth': 15,\n",
    "            'lambda_l2': 0.02085548700474218,\n",
    "            'lambda_l1': 0.004107624022751344,\n",
    "            'bagging_fraction': 0.7934712636944741,\n",
    "            'feature_fraction': 0.686612409641711,\n",
    "            'min_child_samples': 21}\n",
    "    \n",
    "    lgb_train = lgb.Dataset(X_train, label=y_train)\n",
    "    lgb_dev = lgb.Dataset(X_dev, label=y_dev)\n",
    "    model = lgb.train(params, lgb_train, valid_sets=[lgb_dev], early_stopping_rounds=150, verbose_eval=150)\n",
    "    pred_y_test = model.predict(X_test, num_iteration=model.best_iteration) \n",
    "    pred_y_dev = model.predict(X_dev, num_iteration=model.best_iteration)\n",
    "    return model, pred_y_dev, pred_y_test"
   ]
  },
  {
   "cell_type": "code",
   "execution_count": 101,
   "metadata": {},
   "outputs": [],
   "source": [
    "from sklearn.model_selection import GroupKFold\n",
    "\n",
    "def get_oof(train_df, test_df, select_features):\n",
    "    \n",
    "    def get_fold(train_df, kfold = 5):   \n",
    "        '''\n",
    "        kfold based on unique fullVisitorId\n",
    "        '''\n",
    "        unique_vis = np.array(sorted(train_df['fullVisitorId'].unique()))\n",
    "        folds = GroupKFold(n_splits=kfold)\n",
    "        fold_ids = []\n",
    "        ids = np.arange(train_df.shape[0])\n",
    "        for train_vis, dev_vis in folds.split(X=unique_vis, y=unique_vis, groups=unique_vis):\n",
    "            fold_ids.append([\n",
    "                ids[train_df['fullVisitorId'].isin(unique_vis[train_vis])],\n",
    "                ids[train_df['fullVisitorId'].isin(unique_vis[dev_vis])]\n",
    "            ])\n",
    "        return fold_ids\n",
    "    \n",
    "    oof_pred = np.zeros(train_df.shape[0])\n",
    "    test_pred = np.zeros(test_df.shape[0])\n",
    "    fold_ids = get_fold(train_df)\n",
    "    \n",
    "    for i, (train_idx, dev_idx) in enumerate(fold_ids):\n",
    "        print('processing {} fold: '.format(i))\n",
    "\n",
    "        train_id = train_df['fullVisitorId'].iloc[train_idx].values\n",
    "        train_X = train_df[select_features].iloc[train_idx]\n",
    "        train_y = train_df['totals.transactionRevenue'].iloc[train_idx].values\n",
    "        train_y = np.log1p(train_y)\n",
    "\n",
    "        dev_id = train_df['fullVisitorId'].iloc[dev_idx].values\n",
    "        dev_X = train_df[select_features].iloc[dev_idx]\n",
    "        dev_y = train_df['totals.transactionRevenue'].iloc[dev_idx].values  \n",
    "        dev_y = np.log1p(dev_y)\n",
    "        \n",
    "        test_id = test_df['fullVisitorId'].values\n",
    "        test_X = test_df[num_columns + cat_columns].values\n",
    "\n",
    "        model, pred_dev, pred_test = run_lgb(train_X, train_y, dev_X, dev_y, test_X)\n",
    "        pred_dev[pred_dev < 0] = 0\n",
    "        pred_test[pred_test < 0] = 0\n",
    "\n",
    "        oof_pred[dev_idx] = np.expm1(pred_dev)\n",
    "        test_pred += np.expm1(pred_test) / len(fold_ids)\n",
    "        \n",
    "        # n fold rmse \n",
    "        pred_dev_df = pd.DataFrame({'fullVisitorId': dev_id})\n",
    "        pred_dev_df['transactionRevenue'] = dev_y\n",
    "        pred_dev_df['predictedRevenue'] = np.expm1(pred_dev)\n",
    "        pred_dev_df = pred_dev_df.groupby('fullVisitorId')[['transactionRevenue', 'predictedRevenue']].sum()\n",
    "        rmse_score = rmse(np.log1p(pred_dev_df['transactionRevenue'].values), np.log1p(pred_dev_df['predictedRevenue'].values))\n",
    "        print('fold rmse:{}'.format(rmse_score))\n",
    "    return oof_pred, test_pred, model   "
   ]
  },
  {
   "cell_type": "code",
   "execution_count": 6,
   "metadata": {},
   "outputs": [],
   "source": [
    "# define the metrics: rmse(root mean square error)\n",
    "def rmse(y, y0):\n",
    "    assert len(y) == len(y0)\n",
    "    return np.sqrt(np.mean(np.power((y - y0), 2)))"
   ]
  },
  {
   "cell_type": "code",
   "execution_count": 102,
   "metadata": {},
   "outputs": [],
   "source": [
    "num_columns = ['totals.bounces', 'totals.hits', 'totals.newVisits', 'totals.pageviews', 'visitNumber', 'visitStartTime']\n",
    "cat_columns = ['channelGrouping',\n",
    "               'device.browser',\n",
    "               'device.deviceCategory',\n",
    "               'device.operatingSystem',\n",
    "               'geoNetwork.city',\n",
    "               'geoNetwork.continent',\n",
    "               'geoNetwork.country',\n",
    "               'geoNetwork.metro',\n",
    "               'geoNetwork.networkDomain',\n",
    "               'geoNetwork.region',\n",
    "               'geoNetwork.subContinent',\n",
    "               'trafficSource.adContent',\n",
    "               'trafficSource.adwordsClickInfo.adNetworkType',\n",
    "               'trafficSource.adwordsClickInfo.gclId',\n",
    "               'trafficSource.adwordsClickInfo.isVideoAd',\n",
    "               'trafficSource.adwordsClickInfo.page',\n",
    "               'trafficSource.adwordsClickInfo.slot',\n",
    "               'trafficSource.campaign',\n",
    "               'trafficSource.isTrueDirect',\n",
    "               'trafficSource.keyword',\n",
    "               'trafficSource.medium',\n",
    "               'trafficSource.referralPath',\n",
    "               'trafficSource.source']"
   ]
  },
  {
   "cell_type": "code",
   "execution_count": 37,
   "metadata": {},
   "outputs": [],
   "source": [
    "# preprocess data, the select featrues are infered from the \n",
    "def preprocess(train_df, test_df, num_columns, cat_columns):\n",
    "    # encode categorical columns\n",
    "    for column in cat_columns:\n",
    "        lbl = preprocessing.LabelEncoder()\n",
    "        lbl.fit(list(train_df[column].values.astype('str')) + list(test_df[column].values.astype('str')))\n",
    "        train_df[column] = lbl.transform(list(train_df[column].values.astype('str')))\n",
    "        test_df[column] = lbl.transform(list(test_df[column].values.astype('str')))\n",
    "    \n",
    "    train_df[num_columns] = train_df[num_columns].fillna(0)\n",
    "    train_df[num_columns] = train_df[num_columns].astype(float)\n",
    "    test_df[num_columns] = test_df[num_columns].fillna(0)\n",
    "    test_df[num_columns] = test_df[num_columns].astype(float)\n",
    "    \n",
    "    train_df['totals.transactionRevenue'] = train_df['totals.transactionRevenue'].fillna(0)\n",
    "    train_df['totals.transactionRevenue'] = train_df['totals.transactionRevenue'].astype(float)\n",
    "    \n",
    "    return train_df, test_df"
   ]
  },
  {
   "cell_type": "code",
   "execution_count": 38,
   "metadata": {},
   "outputs": [],
   "source": [
    "train_df, test_df = preprocess(train_df, test_df, num_columns, cat_columns)"
   ]
  },
  {
   "cell_type": "code",
   "execution_count": 107,
   "metadata": {},
   "outputs": [
    {
     "name": "stdout",
     "output_type": "stream",
     "text": [
      "processing 0 fold: \n",
      "Training until validation scores don't improve for 150 rounds.\n",
      "Did not meet early stopping. Best iteration is:\n",
      "[100]\tvalid_0's rmse: 1.66069\n",
      "fold rmse:0.8291808967256659\n",
      "processing 1 fold: \n",
      "Training until validation scores don't improve for 150 rounds.\n",
      "Did not meet early stopping. Best iteration is:\n",
      "[100]\tvalid_0's rmse: 1.63954\n",
      "fold rmse:0.8300926929015011\n",
      "processing 2 fold: \n",
      "Training until validation scores don't improve for 150 rounds.\n",
      "Did not meet early stopping. Best iteration is:\n",
      "[100]\tvalid_0's rmse: 1.64698\n",
      "fold rmse:0.839052364846896\n",
      "processing 3 fold: \n",
      "Training until validation scores don't improve for 150 rounds.\n",
      "Did not meet early stopping. Best iteration is:\n",
      "[100]\tvalid_0's rmse: 1.62898\n",
      "fold rmse:0.8472834377920914\n",
      "processing 4 fold: \n",
      "Training until validation scores don't improve for 150 rounds.\n",
      "Did not meet early stopping. Best iteration is:\n",
      "[100]\tvalid_0's rmse: 1.66899\n",
      "fold rmse:0.8535104959674873\n"
     ]
    }
   ],
   "source": [
    "oof_pred, test_pred, model = get_oof(train_df, test_df, num_columns+cat_columns)"
   ]
  },
  {
   "cell_type": "code",
   "execution_count": 72,
   "metadata": {},
   "outputs": [],
   "source": [
    "# create time series features\n",
    "def create_time_features(df):\n",
    "    df['visitDate'] = pd.to_datetime(df['visitStartTime'], unit='s')\n",
    "    df['dow'] = df['visitDate'].dt.dayofweek\n",
    "    df['hours'] = df['visitDate'].dt.hour\n",
    "    df['dom'] = df['visitDate'].dt.day\n",
    "    train_df.sort_values(['fullVisitorId', 'visitDate'], ascending=True, inplace=True)\n",
    "    df['nextSession1'] = (df['visitDate'] - df[['fullVisitorId', 'visitDate']].groupby('fullVisitorId')['visitDate'].shift(1)).astype(int)\n",
    "    df['nextSession2'] = (df['visitDate'] - df[['fullVisitorId', 'visitDate']].groupby('fullVisitorId')['visitDate'].shift(-1)).astype(int)\n",
    "    df['pageviews_per_day'] = df['date'].map(df[['date', 'totals.pageviews']].groupby('date')['totals.pageviews'].sum())\n",
    "    df['ratio_pageviews'] = df['totals.pageviews'] / df['pageviews_per_day']\n",
    "    return df"
   ]
  },
  {
   "cell_type": "code",
   "execution_count": 73,
   "metadata": {},
   "outputs": [],
   "source": [
    "train_df = create_time_features(train_df)"
   ]
  },
  {
   "cell_type": "code",
   "execution_count": 74,
   "metadata": {},
   "outputs": [],
   "source": [
    "test_df = create_time_features(test_df)"
   ]
  },
  {
   "cell_type": "code",
   "execution_count": 108,
   "metadata": {},
   "outputs": [],
   "source": [
    "additional_columns = ['dow', 'hours', 'dom', 'nextSession1', 'nextSession2', 'ratio_pageviews', 'pageviews_per_day']"
   ]
  },
  {
   "cell_type": "code",
   "execution_count": 109,
   "metadata": {},
   "outputs": [],
   "source": [
    "num_columns = [num_column for num_column in num_columns if num_column != 'visitStartTime']"
   ]
  },
  {
   "cell_type": "code",
   "execution_count": 111,
   "metadata": {},
   "outputs": [
    {
     "name": "stdout",
     "output_type": "stream",
     "text": [
      "processing 0 fold: \n",
      "Training until validation scores don't improve for 150 rounds.\n",
      "Did not meet early stopping. Best iteration is:\n",
      "[100]\tvalid_0's rmse: 1.64272\n",
      "fold rmse:0.8857741652562837\n",
      "processing 1 fold: \n",
      "Training until validation scores don't improve for 150 rounds.\n",
      "Did not meet early stopping. Best iteration is:\n",
      "[100]\tvalid_0's rmse: 1.61965\n",
      "fold rmse:0.8808068747407015\n",
      "processing 2 fold: \n",
      "Training until validation scores don't improve for 150 rounds.\n",
      "Did not meet early stopping. Best iteration is:\n",
      "[100]\tvalid_0's rmse: 1.62099\n",
      "fold rmse:0.8966625995978433\n",
      "processing 3 fold: \n",
      "Training until validation scores don't improve for 150 rounds.\n",
      "Did not meet early stopping. Best iteration is:\n",
      "[100]\tvalid_0's rmse: 1.61376\n",
      "fold rmse:0.9080675492113578\n",
      "processing 4 fold: \n",
      "Training until validation scores don't improve for 150 rounds.\n",
      "Did not meet early stopping. Best iteration is:\n",
      "[100]\tvalid_0's rmse: 1.64593\n",
      "fold rmse:0.9185639282371533\n"
     ]
    }
   ],
   "source": [
    "oof_pred, test_pred, model = get_oof(train_df, test_df, num_columns+cat_columns+additional_columns)"
   ]
  },
  {
   "cell_type": "code",
   "execution_count": 98,
   "metadata": {},
   "outputs": [
    {
     "data": {
      "text/plain": [
       "Text(0.5,1,'Light-GBM Feature Importance')"
      ]
     },
     "execution_count": 98,
     "metadata": {},
     "output_type": "execute_result"
    },
    {
     "data": {
      "image/png": "[encoded data removed]",
      "text/plain": [
       "<Figure size 864x1296 with 1 Axes>"
      ]
     },
     "metadata": {},
     "output_type": "display_data"
    }
   ],
   "source": [
    "# visualize feature importance\n",
    "fig, ax = plt.subplots(figsize=(12, 18))\n",
    "lgb.plot_importance(model, max_num_features=50, height=0.8, ax=ax)\n",
    "ax.grid(False)\n",
    "plt.title('Light-GBM Feature Importance', fontsize=15)"
   ]
  },
  {
   "cell_type": "code",
   "execution_count": 99,
   "metadata": {},
   "outputs": [],
   "source": [
    "submission = pd.read_csv('sample_submission.csv')\n",
    "test_id = test_df['fullVisitorId'].values\n",
    "pred_test_df = pd.DataFrame({'fullVisitorID': test_id})\n",
    "pred_test_df['predict'] = test_pred\n",
    "pred_test_df = pred_test_df.groupby('fullVisitorID')['predict'].sum().reset_index()\n",
    "pred_test_df['predict'] = np.log1p(pred_test_df['predict'].values)\n",
    "\n",
    "submission = submission.merge(pred_test_df, left_on='fullVisitorId', right_on='fullVisitorID')\n",
    "submission =submission.drop(['PredictedLogRevenue', 'fullVisitorID'], axis=1)\n",
    "submission.columns = ['fullVisitorId', 'PredictedLogRevenue']"
   ]
  },
  {
   "cell_type": "code",
   "execution_count": 100,
   "metadata": {},
   "outputs": [],
   "source": [
    "submission.to_csv('lgb_submission.csv', index=0)"
   ]
  }
 ],
 "metadata": {
  "kernelspec": {
   "display_name": "Python 3",
   "language": "python",
   "name": "python3"
  },
  "language_info": {
   "codemirror_mode": {
    "name": "ipython",
    "version": 3
   },
   "file_extension": ".py",
   "mimetype": "text/x-python",
   "name": "python",
   "nbconvert_exporter": "python",
   "pygments_lexer": "ipython3",
   "version": "3.6.5"
  }
 },
 "nbformat": 4,
 "nbformat_minor": 2
}
