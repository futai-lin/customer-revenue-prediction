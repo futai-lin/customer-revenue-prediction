{
 "cells": [
  {
   "cell_type": "code",
   "execution_count": 1,
   "metadata": {},
   "outputs": [],
   "source": [
    "# data manipulation\n",
    "import pandas as pd\n",
    "import numpy as np\n",
    "\n",
    "# data visualization \n",
    "import matplotlib.pyplot as plt\n",
    "# json\n",
    "import json\n",
    "# sklearn\n",
    "from sklearn import preprocessing\n",
    "from sklearn.model_selection import train_test_split\n",
    "from sklearn import metrics\n",
    "\n",
    "# lgb\n",
    "import lightgbm as lgb\n",
    "\n",
    "# datatime\n",
    "import datetime\n",
    "%matplotlib inline"
   ]
  },
  {
   "cell_type": "code",
   "execution_count": 2,
   "metadata": {},
   "outputs": [],
   "source": [
    "def load_df(csv_path, nrows=None):\n",
    "    '''\n",
    "    load csv file and convert json columns to normal columns\n",
    "    '''\n",
    "    json_columns = ['device', 'geoNetwork', 'totals', 'trafficSource']\n",
    "    df = pd.read_csv(csv_path,\n",
    "                     converters={column: json.loads for column in json_columns},\n",
    "                     dtype={'fullVisitorId': 'str'},\n",
    "                     nrows=nrows)\n",
    "    \n",
    "    for column in json_columns:\n",
    "        column_df = pd.io.json.json_normalize(list(df[column].values))\n",
    "        column_df.columns = [f'{column}.{sub_column}' for sub_column in column_df.columns]\n",
    "        df = df.drop(column, axis=1).join(column_df)\n",
    "        \n",
    "    return df"
   ]
  },
  {
   "cell_type": "code",
   "execution_count": 3,
   "metadata": {},
   "outputs": [],
   "source": [
    "# load and transform data\n",
    "train_df = load_df('train.csv')\n",
    "test_df = load_df('test.csv')"
   ]
  },
  {
   "cell_type": "code",
   "execution_count": 23,
   "metadata": {},
   "outputs": [],
   "source": [
    "from sklearn.model_selection import GroupKFold\n",
    "\n",
    "def get_oof(train_df, test_df, select_features):\n",
    "    \n",
    "    def get_fold(train_df, kfold = 5):   \n",
    "        '''\n",
    "        kfold based on unique fullVisitorId\n",
    "        '''\n",
    "        unique_vis = np.array(sorted(train_df['fullVisitorId'].unique()))\n",
    "        folds = GroupKFold(n_splits=kfold)\n",
    "        fold_ids = []\n",
    "        ids = np.arange(train_df.shape[0])\n",
    "        for train_vis, dev_vis in folds.split(X=unique_vis, y=unique_vis, groups=unique_vis):\n",
    "            fold_ids.append([\n",
    "                ids[train_df['fullVisitorId'].isin(unique_vis[train_vis])],\n",
    "                ids[train_df['fullVisitorId'].isin(unique_vis[dev_vis])]\n",
    "            ])\n",
    "        return fold_ids\n",
    "    \n",
    "    train_df_y = train_df['totals.transactionRevenue'].values\n",
    "    oof_pred = np.zeros(train_df.shape[0])\n",
    "    test_pred = np.zeros(test_df.shape[0])\n",
    "    fold_ids = get_fold(train_df)\n",
    "    \n",
    "    for i, (train_idx, dev_idx) in enumerate(fold_ids):\n",
    "        print('processing {} fold: '.format(i))\n",
    "\n",
    "        train_id = train_df['fullVisitorId'].iloc[train_idx].values\n",
    "        train_X = train_df[select_features].iloc[train_idx]\n",
    "        train_y = train_df['totals.transactionRevenue'].iloc[train_idx].values\n",
    "        train_y = np.log1p(train_y)\n",
    "\n",
    "        dev_id = train_df['fullVisitorId'].iloc[dev_idx].values\n",
    "        dev_X = train_df[select_features].iloc[dev_idx]\n",
    "        dev_y = train_df['totals.transactionRevenue'].iloc[dev_idx].values  \n",
    "        dev_y = np.log1p(dev_y)\n",
    "        \n",
    "        test_id = test_df['fullVisitorId'].values\n",
    "        test_X = test_df[select_features].values\n",
    "        \n",
    "        reg = lgb.LGBMRegressor(\n",
    "            num_leaves=31,\n",
    "            learning_rate=0.03,\n",
    "            n_estimators=1000,\n",
    "            subsample=.9,\n",
    "            colsample_bytree=.9,\n",
    "            random_state=1)\n",
    "        \n",
    "        reg.fit(\n",
    "            train_X, train_y,\n",
    "            eval_set=[(dev_X, dev_y)],\n",
    "            early_stopping_rounds=50,\n",
    "            verbose=100,\n",
    "            eval_metric='rmse')\n",
    "        \n",
    "        pred_dev = reg.predict(dev_X, num_iteration=reg.best_iteration_)\n",
    "        pred_test = reg.predict(test_X, num_iteration=reg.best_iteration_)\n",
    "        pred_dev[pred_dev < 0] = 0\n",
    "        pred_test[pred_test < 0] = 0\n",
    "\n",
    "        oof_pred[dev_idx] = pred_dev\n",
    "        test_pred += np.expm1(pred_test) / len(fold_ids)\n",
    "        \n",
    "    # n fold rmse \n",
    "    oof_rmse_score = rmse(np.log1p(train_df_y), oof_pred)\n",
    "    print('fold rmse:{}'.format(oof_rmse_score))\n",
    "    \n",
    "    return oof_pred, test_pred"
   ]
  },
  {
   "cell_type": "code",
   "execution_count": 6,
   "metadata": {},
   "outputs": [],
   "source": [
    "# define the metrics: rmse(root mean square error)\n",
    "def rmse(y, y0):\n",
    "    assert len(y) == len(y0)\n",
    "    return np.sqrt(np.mean(np.power((y - y0), 2)))"
   ]
  },
  {
   "cell_type": "code",
   "execution_count": 7,
   "metadata": {},
   "outputs": [],
   "source": [
    "num_columns = ['totals.bounces', 'totals.hits', 'totals.newVisits', 'totals.pageviews', 'visitNumber', 'visitStartTime']\n",
    "cat_columns = ['channelGrouping',\n",
    "               'device.browser',\n",
    "               'device.deviceCategory',\n",
    "               'device.operatingSystem',\n",
    "               'device.isMobile',\n",
    "               'geoNetwork.city',\n",
    "               'geoNetwork.continent',\n",
    "               'geoNetwork.country',\n",
    "               'geoNetwork.metro',\n",
    "               'geoNetwork.networkDomain',\n",
    "               'geoNetwork.region',\n",
    "               'geoNetwork.subContinent',\n",
    "               'trafficSource.adContent',\n",
    "               'trafficSource.campaign',\n",
    "               'trafficSource.isTrueDirect',\n",
    "               'trafficSource.keyword',\n",
    "               'trafficSource.medium',\n",
    "               'trafficSource.referralPath',\n",
    "               'trafficSource.source']"
   ]
  },
  {
   "cell_type": "code",
   "execution_count": 8,
   "metadata": {},
   "outputs": [],
   "source": [
    "# preprocess data, the select featrues are infered from the \n",
    "def preprocess(train_df, test_df, num_columns, cat_columns):\n",
    "    # encode categorical columns\n",
    "    for column in cat_columns:\n",
    "        lbl = preprocessing.LabelEncoder()\n",
    "        lbl.fit(list(train_df[column].values.astype('str')) + list(test_df[column].values.astype('str')))\n",
    "        train_df[column] = lbl.transform(list(train_df[column].values.astype('str')))\n",
    "        test_df[column] = lbl.transform(list(test_df[column].values.astype('str')))\n",
    "    \n",
    "    train_df[num_columns] = train_df[num_columns].fillna(0)\n",
    "    train_df[num_columns] = train_df[num_columns].astype(float)\n",
    "    test_df[num_columns] = test_df[num_columns].fillna(0)\n",
    "    test_df[num_columns] = test_df[num_columns].astype(float)\n",
    "    \n",
    "    train_df['totals.transactionRevenue'] = train_df['totals.transactionRevenue'].fillna(0)\n",
    "    train_df['totals.transactionRevenue'] = train_df['totals.transactionRevenue'].astype(float)\n",
    "    \n",
    "    return train_df, test_df"
   ]
  },
  {
   "cell_type": "code",
   "execution_count": 9,
   "metadata": {},
   "outputs": [],
   "source": [
    "train_df, test_df = preprocess(train_df, test_df, num_columns, cat_columns)"
   ]
  },
  {
   "cell_type": "code",
   "execution_count": 13,
   "metadata": {},
   "outputs": [
    {
     "name": "stdout",
     "output_type": "stream",
     "text": [
      "processing 0 fold: \n",
      "Training until validation scores don't improve for 50 rounds.\n",
      "[100]\tvalid_0's rmse: 1.65376\n",
      "[200]\tvalid_0's rmse: 1.63823\n",
      "[300]\tvalid_0's rmse: 1.63312\n",
      "[400]\tvalid_0's rmse: 1.63062\n",
      "[500]\tvalid_0's rmse: 1.62879\n",
      "[600]\tvalid_0's rmse: 1.62832\n",
      "Early stopping, best iteration is:\n",
      "[643]\tvalid_0's rmse: 1.62802\n",
      "processing 1 fold: \n",
      "Training until validation scores don't improve for 50 rounds.\n",
      "[100]\tvalid_0's rmse: 1.63182\n",
      "[200]\tvalid_0's rmse: 1.61938\n",
      "[300]\tvalid_0's rmse: 1.61564\n",
      "[400]\tvalid_0's rmse: 1.61244\n",
      "Early stopping, best iteration is:\n",
      "[441]\tvalid_0's rmse: 1.61116\n",
      "processing 2 fold: \n",
      "Training until validation scores don't improve for 50 rounds.\n",
      "[100]\tvalid_0's rmse: 1.63867\n",
      "[200]\tvalid_0's rmse: 1.62228\n",
      "[300]\tvalid_0's rmse: 1.61554\n",
      "[400]\tvalid_0's rmse: 1.61161\n",
      "[500]\tvalid_0's rmse: 1.60924\n",
      "[600]\tvalid_0's rmse: 1.60792\n",
      "Early stopping, best iteration is:\n",
      "[600]\tvalid_0's rmse: 1.60792\n",
      "processing 3 fold: \n",
      "Training until validation scores don't improve for 50 rounds.\n",
      "[100]\tvalid_0's rmse: 1.62224\n",
      "[200]\tvalid_0's rmse: 1.6069\n",
      "[300]\tvalid_0's rmse: 1.60134\n",
      "[400]\tvalid_0's rmse: 1.5983\n",
      "[500]\tvalid_0's rmse: 1.59662\n",
      "[600]\tvalid_0's rmse: 1.59581\n",
      "[700]\tvalid_0's rmse: 1.59561\n",
      "Early stopping, best iteration is:\n",
      "[695]\tvalid_0's rmse: 1.5955\n",
      "processing 4 fold: \n",
      "Training until validation scores don't improve for 50 rounds.\n",
      "[100]\tvalid_0's rmse: 1.66123\n",
      "[200]\tvalid_0's rmse: 1.64712\n",
      "[300]\tvalid_0's rmse: 1.63987\n",
      "[400]\tvalid_0's rmse: 1.63717\n",
      "[500]\tvalid_0's rmse: 1.63509\n",
      "[600]\tvalid_0's rmse: 1.63421\n",
      "Early stopping, best iteration is:\n",
      "[645]\tvalid_0's rmse: 1.63408\n",
      "fold rmse:1.6148695532667532\n"
     ]
    }
   ],
   "source": [
    "oof_pred, test_pred = get_oof(train_df, test_df, num_columns+cat_columns)"
   ]
  },
  {
   "cell_type": "code",
   "execution_count": 14,
   "metadata": {},
   "outputs": [],
   "source": [
    "# create time series features\n",
    "def create_time_features(df):\n",
    "    df['visitDate'] = pd.to_datetime(df['visitStartTime'], unit='s')\n",
    "    df['dow'] = df['visitDate'].dt.dayofweek\n",
    "    df['hours'] = df['visitDate'].dt.hour\n",
    "    df['dom'] = df['visitDate'].dt.day\n",
    "    train_df.sort_values(['fullVisitorId', 'visitDate'], ascending=True, inplace=True)\n",
    "    df['nextSession1'] = (df['visitDate'] - df[['fullVisitorId', 'visitDate']].groupby('fullVisitorId')['visitDate'].shift(1)).astype(np.int64) // 1e9 // 60 // 60\n",
    "    df['nextSession2'] = (df['visitDate'] - df[['fullVisitorId', 'visitDate']].groupby('fullVisitorId')['visitDate'].shift(-1)).astype(np.int64) // 1e9 // 60 // 60\n",
    "    df['pageviews_per_day'] = df['date'].map(df[['date', 'totals.pageviews']].groupby('date')['totals.pageviews'].sum())\n",
    "    df['ratio_pageviews'] = df['totals.pageviews'] / df['pageviews_per_day']\n",
    "    return df"
   ]
  },
  {
   "cell_type": "code",
   "execution_count": 15,
   "metadata": {},
   "outputs": [],
   "source": [
    "train_df = create_time_features(train_df)"
   ]
  },
  {
   "cell_type": "code",
   "execution_count": 37,
   "metadata": {},
   "outputs": [],
   "source": [
    "train_df = train_df.sort_index()"
   ]
  },
  {
   "cell_type": "code",
   "execution_count": 227,
   "metadata": {},
   "outputs": [],
   "source": [
    "#train_df['nextSession1'] = train_df['nextSession1'].replace(-2562048, 0)"
   ]
  },
  {
   "cell_type": "code",
   "execution_count": 17,
   "metadata": {},
   "outputs": [],
   "source": [
    "test_df = create_time_features(test_df)"
   ]
  },
  {
   "cell_type": "code",
   "execution_count": 38,
   "metadata": {},
   "outputs": [],
   "source": [
    "test_df = test_df.sort_index()"
   ]
  },
  {
   "cell_type": "code",
   "execution_count": 231,
   "metadata": {},
   "outputs": [],
   "source": [
    "#test_df['nextSession1'] = test_df['nextSession1'].replace(-2562048, 0)"
   ]
  },
  {
   "cell_type": "code",
   "execution_count": 19,
   "metadata": {},
   "outputs": [],
   "source": [
    "additional_columns = ['dow', 'hours', 'dom', 'nextSession1', 'nextSession2', 'ratio_pageviews', 'pageviews_per_day']"
   ]
  },
  {
   "cell_type": "code",
   "execution_count": 20,
   "metadata": {},
   "outputs": [],
   "source": [
    "num_columns = [num_column for num_column in num_columns if num_column != 'visitStartTime']"
   ]
  },
  {
   "cell_type": "code",
   "execution_count": 41,
   "metadata": {},
   "outputs": [
    {
     "name": "stdout",
     "output_type": "stream",
     "text": [
      "processing 0 fold: \n",
      "Training until validation scores don't improve for 50 rounds.\n",
      "[100]\tvalid_0's rmse: 1.64033\n",
      "[200]\tvalid_0's rmse: 1.62351\n",
      "[300]\tvalid_0's rmse: 1.6179\n",
      "[400]\tvalid_0's rmse: 1.61532\n",
      "[500]\tvalid_0's rmse: 1.61303\n",
      "[600]\tvalid_0's rmse: 1.61129\n",
      "[700]\tvalid_0's rmse: 1.6095\n",
      "[800]\tvalid_0's rmse: 1.60886\n",
      "Early stopping, best iteration is:\n",
      "[848]\tvalid_0's rmse: 1.60838\n",
      "processing 1 fold: \n",
      "Training until validation scores don't improve for 50 rounds.\n",
      "[100]\tvalid_0's rmse: 1.61646\n",
      "[200]\tvalid_0's rmse: 1.60197\n",
      "[300]\tvalid_0's rmse: 1.59731\n",
      "[400]\tvalid_0's rmse: 1.59349\n",
      "[500]\tvalid_0's rmse: 1.59248\n",
      "[600]\tvalid_0's rmse: 1.59181\n",
      "Early stopping, best iteration is:\n",
      "[607]\tvalid_0's rmse: 1.5916\n",
      "processing 2 fold: \n",
      "Training until validation scores don't improve for 50 rounds.\n",
      "[100]\tvalid_0's rmse: 1.61963\n",
      "[200]\tvalid_0's rmse: 1.59922\n",
      "[300]\tvalid_0's rmse: 1.59271\n",
      "[400]\tvalid_0's rmse: 1.58855\n",
      "[500]\tvalid_0's rmse: 1.5865\n",
      "[600]\tvalid_0's rmse: 1.58523\n",
      "Early stopping, best iteration is:\n",
      "[645]\tvalid_0's rmse: 1.58416\n",
      "processing 3 fold: \n",
      "Training until validation scores don't improve for 50 rounds.\n",
      "[100]\tvalid_0's rmse: 1.61321\n",
      "[200]\tvalid_0's rmse: 1.59606\n",
      "[300]\tvalid_0's rmse: 1.59039\n",
      "[400]\tvalid_0's rmse: 1.58735\n",
      "[500]\tvalid_0's rmse: 1.58549\n",
      "[600]\tvalid_0's rmse: 1.58486\n",
      "[700]\tvalid_0's rmse: 1.58422\n",
      "[800]\tvalid_0's rmse: 1.58316\n",
      "[900]\tvalid_0's rmse: 1.58286\n",
      "Early stopping, best iteration is:\n",
      "[853]\tvalid_0's rmse: 1.58269\n",
      "processing 4 fold: \n",
      "Training until validation scores don't improve for 50 rounds.\n",
      "[100]\tvalid_0's rmse: 1.64318\n",
      "[200]\tvalid_0's rmse: 1.62419\n",
      "[300]\tvalid_0's rmse: 1.61782\n",
      "[400]\tvalid_0's rmse: 1.61349\n",
      "[500]\tvalid_0's rmse: 1.61112\n",
      "[600]\tvalid_0's rmse: 1.60971\n",
      "[700]\tvalid_0's rmse: 1.60851\n",
      "[800]\tvalid_0's rmse: 1.60796\n",
      "Early stopping, best iteration is:\n",
      "[759]\tvalid_0's rmse: 1.60775\n",
      "fold rmse:1.5942395372521325\n"
     ]
    }
   ],
   "source": [
    "oof_pred, test_pred = get_oof(train_df, test_df, num_columns+cat_columns+additional_columns)"
   ]
  },
  {
   "cell_type": "code",
   "execution_count": 112,
   "metadata": {},
   "outputs": [
    {
     "data": {
      "text/plain": [
       "Text(0.5,1,'Light-GBM Feature Importance')"
      ]
     },
     "execution_count": 112,
     "metadata": {},
     "output_type": "execute_result"
    },
    {
     "data": {
      "image/png": "[encoded data removed]",
      "text/plain": [
       "<Figure size 864x1296 with 1 Axes>"
      ]
     },
     "metadata": {},
     "output_type": "display_data"
    }
   ],
   "source": [
    "# visualize feature importance\n",
    "fig, ax = plt.subplots(figsize=(12, 18))\n",
    "lgb.plot_importance(model, max_num_features=50, height=0.8, ax=ax)\n",
    "ax.grid(False)\n",
    "plt.title('Light-GBM Feature Importance', fontsize=15)"
   ]
  },
  {
   "cell_type": "code",
   "execution_count": 49,
   "metadata": {},
   "outputs": [],
   "source": [
    "pred_dev = pd.DataFrame()\n",
    "pred_dev[['fullVisitorId', 'totals.transactionRevenue']] = train_df[['fullVisitorId', 'totals.transactionRevenue']]\n",
    "pred_dev['predRevenue'] = np.expm1(oof_pred)"
   ]
  },
  {
   "cell_type": "code",
   "execution_count": 50,
   "metadata": {},
   "outputs": [
    {
     "data": {
      "text/plain": [
       "1.5942395372520661"
      ]
     },
     "execution_count": 50,
     "metadata": {},
     "output_type": "execute_result"
    }
   ],
   "source": [
    "rmse(np.log1p(pred_dev['totals.transactionRevenue']), np.log1p(pred_dev['predRevenue']))"
   ]
  },
  {
   "cell_type": "code",
   "execution_count": 52,
   "metadata": {},
   "outputs": [],
   "source": [
    "pred_dev = pred_dev.groupby('fullVisitorId')[['totals.transactionRevenue', 'predRevenue']].sum().reset_index()"
   ]
  },
  {
   "cell_type": "code",
   "execution_count": 53,
   "metadata": {},
   "outputs": [
    {
     "data": {
      "text/plain": [
       "1.595345450974619"
      ]
     },
     "execution_count": 53,
     "metadata": {},
     "output_type": "execute_result"
    }
   ],
   "source": [
    "rmse(np.log1p(pred_dev['totals.transactionRevenue']), np.log1p(pred_dev['predRevenue']))"
   ]
  },
  {
   "cell_type": "code",
   "execution_count": 54,
   "metadata": {},
   "outputs": [
    {
     "data": {
      "text/plain": [
       "714167"
      ]
     },
     "execution_count": 54,
     "metadata": {},
     "output_type": "execute_result"
    }
   ],
   "source": [
    "len(pred_dev)"
   ]
  },
  {
   "cell_type": "code",
   "execution_count": 99,
   "metadata": {},
   "outputs": [],
   "source": [
    "submission = pd.read_csv('sample_submission.csv')\n",
    "test_id = test_df['fullVisitorId'].values\n",
    "pred_test_df = pd.DataFrame({'fullVisitorID': test_id})\n",
    "pred_test_df['predict'] = test_pred\n",
    "pred_test_df = pred_test_df.groupby('fullVisitorID')['predict'].sum().reset_index()\n",
    "pred_test_df['predict'] = np.log1p(pred_test_df['predict'].values)\n",
    "\n",
    "submission = submission.merge(pred_test_df, left_on='fullVisitorId', right_on='fullVisitorID')\n",
    "submission =submission.drop(['PredictedLogRevenue', 'fullVisitorID'], axis=1)\n",
    "submission.columns = ['fullVisitorId', 'PredictedLogRevenue']"
   ]
  },
  {
   "cell_type": "code",
   "execution_count": 100,
   "metadata": {},
   "outputs": [],
   "source": [
    "submission.to_csv('lgb_submission.csv', index=0)"
   ]
  },
  {
   "cell_type": "code",
   "execution_count": 130,
   "metadata": {},
   "outputs": [
    {
     "data": {
      "text/plain": [
       "0         Organic Search\n",
       "1         Organic Search\n",
       "2         Organic Search\n",
       "3         Organic Search\n",
       "4         Organic Search\n",
       "5         Organic Search\n",
       "6         Organic Search\n",
       "7         Organic Search\n",
       "8         Organic Search\n",
       "9         Organic Search\n",
       "10        Organic Search\n",
       "11        Organic Search\n",
       "12        Organic Search\n",
       "13        Organic Search\n",
       "14        Organic Search\n",
       "15        Organic Search\n",
       "16        Organic Search\n",
       "17        Organic Search\n",
       "18        Organic Search\n",
       "19        Organic Search\n",
       "20        Organic Search\n",
       "21        Organic Search\n",
       "22        Organic Search\n",
       "23        Organic Search\n",
       "24        Organic Search\n",
       "25        Organic Search\n",
       "26        Organic Search\n",
       "27        Organic Search\n",
       "28              Referral\n",
       "29        Organic Search\n",
       "               ...      \n",
       "903623            Social\n",
       "903624            Social\n",
       "903625            Social\n",
       "903626            Social\n",
       "903627            Social\n",
       "903628            Social\n",
       "903629            Social\n",
       "903630            Social\n",
       "903631            Social\n",
       "903632            Social\n",
       "903633            Social\n",
       "903634            Social\n",
       "903635            Social\n",
       "903636            Social\n",
       "903637            Social\n",
       "903638            Social\n",
       "903639            Social\n",
       "903640            Social\n",
       "903641            Social\n",
       "903642            Social\n",
       "903643            Social\n",
       "903644            Social\n",
       "903645            Social\n",
       "903646            Social\n",
       "903647            Social\n",
       "903648            Social\n",
       "903649            Social\n",
       "903650            Social\n",
       "903651            Social\n",
       "903652            Social\n",
       "Name: channelGrouping, Length: 903653, dtype: object"
      ]
     },
     "execution_count": 130,
     "metadata": {},
     "output_type": "execute_result"
    }
   ],
   "source": [
    "train_df['channelGrouping']"
   ]
  }
 ],
 "metadata": {
  "kernelspec": {
   "display_name": "Python 3",
   "language": "python",
   "name": "python3"
  },
  "language_info": {
   "codemirror_mode": {
    "name": "ipython",
    "version": 3
   },
   "file_extension": ".py",
   "mimetype": "text/x-python",
   "name": "python",
   "nbconvert_exporter": "python",
   "pygments_lexer": "ipython3",
   "version": "3.6.5"
  }
 },
 "nbformat": 4,
 "nbformat_minor": 2
}
