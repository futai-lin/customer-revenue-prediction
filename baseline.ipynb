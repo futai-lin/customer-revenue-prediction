{
 "cells": [
  {
   "cell_type": "code",
   "execution_count": 20,
   "metadata": {},
   "outputs": [],
   "source": [
    "# data manipulation\n",
    "import pandas as pd\n",
    "import numpy as np\n",
    "\n",
    "# data visualization \n",
    "import matplotlib.pyplot as plt\n",
    "\n",
    "import json\n",
    "%matplotlib inline"
   ]
  },
  {
   "cell_type": "code",
   "execution_count": 9,
   "metadata": {},
   "outputs": [],
   "source": [
    "def load_df(csv_path, nrows=None):\n",
    "    json_columns = ['device', 'geoNetwork', 'totals', 'trafficSource']\n",
    "    df = pd.read_csv(csv_path,\n",
    "                     converters={column: json.loads for column in json_columns},\n",
    "                     dtype={'fullVisitorId': 'str'},\n",
    "                     nrows=nrows)\n",
    "    \n",
    "    for column in json_columns:\n",
    "        column_df = pd.io.json.json_normalize(list(df[column].values))\n",
    "        column_df.columns = [f'{column}.{sub_column}' for sub_column in column_df.columns]\n",
    "        df = df.drop(column, axis=1).join(column_df)\n",
    "        \n",
    "    return df"
   ]
  },
  {
   "cell_type": "code",
   "execution_count": 12,
   "metadata": {},
   "outputs": [],
   "source": [
    "# load and transform data\n",
    "#train_df = load_df('train.csv')\n",
    "train_df = load_df('train.csv')\n",
    "test_df = load_df('test.csv')"
   ]
  },
  {
   "cell_type": "code",
   "execution_count": 11,
   "metadata": {},
   "outputs": [
    {
     "data": {
      "text/html": [
       "<div>\n",
       "<style scoped>\n",
       "    .dataframe tbody tr th:only-of-type {\n",
       "        vertical-align: middle;\n",
       "    }\n",
       "\n",
       "    .dataframe tbody tr th {\n",
       "        vertical-align: top;\n",
       "    }\n",
       "\n",
       "    .dataframe thead th {\n",
       "        text-align: right;\n",
       "    }\n",
       "</style>\n",
       "<table border=\"1\" class=\"dataframe\">\n",
       "  <thead>\n",
       "    <tr style=\"text-align: right;\">\n",
       "      <th></th>\n",
       "      <th>channelGrouping</th>\n",
       "      <th>date</th>\n",
       "      <th>fullVisitorId</th>\n",
       "      <th>sessionId</th>\n",
       "      <th>socialEngagementType</th>\n",
       "      <th>visitId</th>\n",
       "      <th>visitNumber</th>\n",
       "      <th>visitStartTime</th>\n",
       "      <th>device.browser</th>\n",
       "      <th>device.browserSize</th>\n",
       "      <th>...</th>\n",
       "      <th>trafficSource.adwordsClickInfo.gclId</th>\n",
       "      <th>trafficSource.adwordsClickInfo.isVideoAd</th>\n",
       "      <th>trafficSource.adwordsClickInfo.page</th>\n",
       "      <th>trafficSource.adwordsClickInfo.slot</th>\n",
       "      <th>trafficSource.campaign</th>\n",
       "      <th>trafficSource.isTrueDirect</th>\n",
       "      <th>trafficSource.keyword</th>\n",
       "      <th>trafficSource.medium</th>\n",
       "      <th>trafficSource.referralPath</th>\n",
       "      <th>trafficSource.source</th>\n",
       "    </tr>\n",
       "  </thead>\n",
       "  <tbody>\n",
       "    <tr>\n",
       "      <th>0</th>\n",
       "      <td>Organic Search</td>\n",
       "      <td>20160902</td>\n",
       "      <td>1131660440785968503</td>\n",
       "      <td>1131660440785968503_1472830385</td>\n",
       "      <td>Not Socially Engaged</td>\n",
       "      <td>1472830385</td>\n",
       "      <td>1</td>\n",
       "      <td>1472830385</td>\n",
       "      <td>Chrome</td>\n",
       "      <td>not available in demo dataset</td>\n",
       "      <td>...</td>\n",
       "      <td>NaN</td>\n",
       "      <td>NaN</td>\n",
       "      <td>NaN</td>\n",
       "      <td>NaN</td>\n",
       "      <td>(not set)</td>\n",
       "      <td>NaN</td>\n",
       "      <td>(not provided)</td>\n",
       "      <td>organic</td>\n",
       "      <td>NaN</td>\n",
       "      <td>google</td>\n",
       "    </tr>\n",
       "    <tr>\n",
       "      <th>1</th>\n",
       "      <td>Organic Search</td>\n",
       "      <td>20160902</td>\n",
       "      <td>377306020877927890</td>\n",
       "      <td>377306020877927890_1472880147</td>\n",
       "      <td>Not Socially Engaged</td>\n",
       "      <td>1472880147</td>\n",
       "      <td>1</td>\n",
       "      <td>1472880147</td>\n",
       "      <td>Firefox</td>\n",
       "      <td>not available in demo dataset</td>\n",
       "      <td>...</td>\n",
       "      <td>NaN</td>\n",
       "      <td>NaN</td>\n",
       "      <td>NaN</td>\n",
       "      <td>NaN</td>\n",
       "      <td>(not set)</td>\n",
       "      <td>NaN</td>\n",
       "      <td>(not provided)</td>\n",
       "      <td>organic</td>\n",
       "      <td>NaN</td>\n",
       "      <td>google</td>\n",
       "    </tr>\n",
       "    <tr>\n",
       "      <th>2</th>\n",
       "      <td>Organic Search</td>\n",
       "      <td>20160902</td>\n",
       "      <td>3895546263509774583</td>\n",
       "      <td>3895546263509774583_1472865386</td>\n",
       "      <td>Not Socially Engaged</td>\n",
       "      <td>1472865386</td>\n",
       "      <td>1</td>\n",
       "      <td>1472865386</td>\n",
       "      <td>Chrome</td>\n",
       "      <td>not available in demo dataset</td>\n",
       "      <td>...</td>\n",
       "      <td>NaN</td>\n",
       "      <td>NaN</td>\n",
       "      <td>NaN</td>\n",
       "      <td>NaN</td>\n",
       "      <td>(not set)</td>\n",
       "      <td>NaN</td>\n",
       "      <td>(not provided)</td>\n",
       "      <td>organic</td>\n",
       "      <td>NaN</td>\n",
       "      <td>google</td>\n",
       "    </tr>\n",
       "    <tr>\n",
       "      <th>3</th>\n",
       "      <td>Organic Search</td>\n",
       "      <td>20160902</td>\n",
       "      <td>4763447161404445595</td>\n",
       "      <td>4763447161404445595_1472881213</td>\n",
       "      <td>Not Socially Engaged</td>\n",
       "      <td>1472881213</td>\n",
       "      <td>1</td>\n",
       "      <td>1472881213</td>\n",
       "      <td>UC Browser</td>\n",
       "      <td>not available in demo dataset</td>\n",
       "      <td>...</td>\n",
       "      <td>NaN</td>\n",
       "      <td>NaN</td>\n",
       "      <td>NaN</td>\n",
       "      <td>NaN</td>\n",
       "      <td>(not set)</td>\n",
       "      <td>NaN</td>\n",
       "      <td>google + online</td>\n",
       "      <td>organic</td>\n",
       "      <td>NaN</td>\n",
       "      <td>google</td>\n",
       "    </tr>\n",
       "    <tr>\n",
       "      <th>4</th>\n",
       "      <td>Organic Search</td>\n",
       "      <td>20160902</td>\n",
       "      <td>27294437909732085</td>\n",
       "      <td>27294437909732085_1472822600</td>\n",
       "      <td>Not Socially Engaged</td>\n",
       "      <td>1472822600</td>\n",
       "      <td>2</td>\n",
       "      <td>1472822600</td>\n",
       "      <td>Chrome</td>\n",
       "      <td>not available in demo dataset</td>\n",
       "      <td>...</td>\n",
       "      <td>NaN</td>\n",
       "      <td>NaN</td>\n",
       "      <td>NaN</td>\n",
       "      <td>NaN</td>\n",
       "      <td>(not set)</td>\n",
       "      <td>True</td>\n",
       "      <td>(not provided)</td>\n",
       "      <td>organic</td>\n",
       "      <td>NaN</td>\n",
       "      <td>google</td>\n",
       "    </tr>\n",
       "  </tbody>\n",
       "</table>\n",
       "<p>5 rows × 54 columns</p>\n",
       "</div>"
      ],
      "text/plain": [
       "  channelGrouping      date        fullVisitorId  \\\n",
       "0  Organic Search  20160902  1131660440785968503   \n",
       "1  Organic Search  20160902   377306020877927890   \n",
       "2  Organic Search  20160902  3895546263509774583   \n",
       "3  Organic Search  20160902  4763447161404445595   \n",
       "4  Organic Search  20160902    27294437909732085   \n",
       "\n",
       "                        sessionId  socialEngagementType     visitId  \\\n",
       "0  1131660440785968503_1472830385  Not Socially Engaged  1472830385   \n",
       "1   377306020877927890_1472880147  Not Socially Engaged  1472880147   \n",
       "2  3895546263509774583_1472865386  Not Socially Engaged  1472865386   \n",
       "3  4763447161404445595_1472881213  Not Socially Engaged  1472881213   \n",
       "4    27294437909732085_1472822600  Not Socially Engaged  1472822600   \n",
       "\n",
       "   visitNumber  visitStartTime device.browser             device.browserSize  \\\n",
       "0            1      1472830385         Chrome  not available in demo dataset   \n",
       "1            1      1472880147        Firefox  not available in demo dataset   \n",
       "2            1      1472865386         Chrome  not available in demo dataset   \n",
       "3            1      1472881213     UC Browser  not available in demo dataset   \n",
       "4            2      1472822600         Chrome  not available in demo dataset   \n",
       "\n",
       "          ...          trafficSource.adwordsClickInfo.gclId  \\\n",
       "0         ...                                           NaN   \n",
       "1         ...                                           NaN   \n",
       "2         ...                                           NaN   \n",
       "3         ...                                           NaN   \n",
       "4         ...                                           NaN   \n",
       "\n",
       "  trafficSource.adwordsClickInfo.isVideoAd  \\\n",
       "0                                      NaN   \n",
       "1                                      NaN   \n",
       "2                                      NaN   \n",
       "3                                      NaN   \n",
       "4                                      NaN   \n",
       "\n",
       "  trafficSource.adwordsClickInfo.page  trafficSource.adwordsClickInfo.slot  \\\n",
       "0                                 NaN                                  NaN   \n",
       "1                                 NaN                                  NaN   \n",
       "2                                 NaN                                  NaN   \n",
       "3                                 NaN                                  NaN   \n",
       "4                                 NaN                                  NaN   \n",
       "\n",
       "  trafficSource.campaign trafficSource.isTrueDirect trafficSource.keyword  \\\n",
       "0              (not set)                        NaN        (not provided)   \n",
       "1              (not set)                        NaN        (not provided)   \n",
       "2              (not set)                        NaN        (not provided)   \n",
       "3              (not set)                        NaN       google + online   \n",
       "4              (not set)                       True        (not provided)   \n",
       "\n",
       "  trafficSource.medium trafficSource.referralPath trafficSource.source  \n",
       "0              organic                        NaN               google  \n",
       "1              organic                        NaN               google  \n",
       "2              organic                        NaN               google  \n",
       "3              organic                        NaN               google  \n",
       "4              organic                        NaN               google  \n",
       "\n",
       "[5 rows x 54 columns]"
      ]
     },
     "execution_count": 11,
     "metadata": {},
     "output_type": "execute_result"
    }
   ],
   "source": [
    "train_df.head()"
   ]
  },
  {
   "cell_type": "code",
   "execution_count": 36,
   "metadata": {},
   "outputs": [
    {
     "name": "stdout",
     "output_type": "stream",
     "text": [
      "the ratio of non zero revenue is:  0.0127427231470487\n",
      "the ratio of non zero revenue for unique users is:  0.013996726255903731\n"
     ]
    },
    {
     "data": {
      "text/plain": [
       "<matplotlib.collections.PathCollection at 0x7f35317f16a0>"
      ]
     },
     "execution_count": 36,
     "metadata": {},
     "output_type": "execute_result"
    },
    {
     "data": {
      "image/png": "[encoded data removed]",
      "text/plain": [
       "<Figure size 576x432 with 1 Axes>"
      ]
     },
     "metadata": {},
     "output_type": "display_data"
    }
   ],
   "source": [
    "# target variable exploration\n",
    "# convert target variables to float type\n",
    "train_df['totals.transactionRevenue'] = train_df['totals.transactionRevenue'].fillna(0)\n",
    "train_df['totals.transactionRevenue'] = train_df['totals.transactionRevenue'].astype(float)\n",
    "\n",
    "# for every sample in training dataset\n",
    "nonzero_ratio_train = sum(train_df['totals.transactionRevenue'] > 0) / train_df.shape[0]\n",
    "print('the ratio of non zero revenue is: ', nonzero_ratio_train)\n",
    "\n",
    "# for unique users in training dataset\n",
    "revenue_sum = train_df.groupby(['fullVisitorId'])['totals.transactionRevenue'].sum().reset_index()\n",
    "nonzero_ratio_unique_train = sum(revenue_sum['totals.transactionRevenue'] > 0) / revenue_sum.shape[0]\n",
    "print('the ratio of non zero revenue for unique users is: ', nonzero_ratio_unique_train)\n",
    "\n",
    "# plot revenue_sum\n",
    "plt.figure(figsize=(8, 6))\n",
    "plt.scatter(range(revenue_sum.shape[0]), np.sort(np.log1p(revenue_sum['totals.transactionRevenue'].values)))\n",
    "plt.xlabel('index', fontsize=12)\n",
    "plt.ylabel('TransactionRevenue', fontsize=12)\n",
    "plt.show()"
   ]
  },
  {
   "cell_type": "code",
   "execution_count": 49,
   "metadata": {},
   "outputs": [
    {
     "name": "stdout",
     "output_type": "stream",
     "text": [
      "number of unique visitors in train is 714167 out of rows 903653\n",
      "number of unique visitors in test is 617242 out of rows 804684\n",
      "number of common visitors in train and test is 7679\n"
     ]
    }
   ],
   "source": [
    "# number of unique visitors in train and test dataset and common visitors belong to both two datsets\n",
    "print('number of unique visitors in train is {} out of rows {}'.format(train_df['fullVisitorId'].nunique(), train_df.shape[0]))\n",
    "print('number of unique visitors in test is {} out of rows {}'.format(test_df['fullVisitorId'].nunique(), test_df.shape[0]))\n",
    "print('number of common visitors in train and test is {}'.format(len(set(train_df['fullVisitorId'].unique()).intersection(set(test_df['fullVisitorId'].unique())))))"
   ]
  },
  {
   "cell_type": "code",
   "execution_count": 51,
   "metadata": {},
   "outputs": [],
   "source": [
    "# search for the constant features\n",
    "constant_features = [c for c in train_df.columns if train_df[c].nunique(dropna=False) == 1]"
   ]
  },
  {
   "cell_type": "code",
   "execution_count": 108,
   "metadata": {},
   "outputs": [],
   "source": [
    "# drop constant features\n",
    "train_df = train_df.drop(constant_features, axis=1)"
   ]
  },
  {
   "cell_type": "code",
   "execution_count": 109,
   "metadata": {},
   "outputs": [
    {
     "data": {
      "text/plain": [
       "['channelGrouping',\n",
       " 'fullVisitorId',\n",
       " 'sessionId',\n",
       " 'device.browser',\n",
       " 'device.deviceCategory',\n",
       " 'device.operatingSystem',\n",
       " 'geoNetwork.city',\n",
       " 'geoNetwork.continent',\n",
       " 'geoNetwork.country',\n",
       " 'geoNetwork.metro',\n",
       " 'geoNetwork.networkDomain',\n",
       " 'geoNetwork.region',\n",
       " 'geoNetwork.subContinent',\n",
       " 'totals.bounces',\n",
       " 'totals.hits',\n",
       " 'totals.newVisits',\n",
       " 'totals.pageviews',\n",
       " 'trafficSource.adContent',\n",
       " 'trafficSource.adwordsClickInfo.adNetworkType',\n",
       " 'trafficSource.adwordsClickInfo.gclId',\n",
       " 'trafficSource.adwordsClickInfo.isVideoAd',\n",
       " 'trafficSource.adwordsClickInfo.page',\n",
       " 'trafficSource.adwordsClickInfo.slot',\n",
       " 'trafficSource.campaign',\n",
       " 'trafficSource.campaignCode',\n",
       " 'trafficSource.isTrueDirect',\n",
       " 'trafficSource.keyword',\n",
       " 'trafficSource.medium',\n",
       " 'trafficSource.referralPath',\n",
       " 'trafficSource.source']"
      ]
     },
     "execution_count": 109,
     "metadata": {},
     "output_type": "execute_result"
    }
   ],
   "source": [
    "# select categorical features\n",
    "categorical_columns = [c for c in train_df.columns if train_df[c].dtype == 'O']\n",
    "categorical_columns"
   ]
  },
  {
   "cell_type": "code",
   "execution_count": 91,
   "metadata": {},
   "outputs": [],
   "source": [
    "# device browser exploration\n",
    "browser_plot_info = train_df.groupby('device.browser')['totals.transactionRevenue'].agg(['size', 'mean']).reset_index()"
   ]
  },
  {
   "cell_type": "code",
   "execution_count": 92,
   "metadata": {},
   "outputs": [],
   "source": [
    "tmp = train_df[train_df['totals.transactionRevenue'] != 0]\n",
    "tmp = tmp.groupby('device.browser')['totals.transactionRevenue'].count().reset_index()\n",
    "browser_plot_info = browser_plot_info.merge(tmp, on='device.browser', how='left')\n",
    "browser_plot_info = browser_plot_info.rename(columns={'size': 'count', 'totals.transactionRevenue': 'count_nonzero'})"
   ]
  },
  {
   "cell_type": "code",
   "execution_count": 93,
   "metadata": {},
   "outputs": [],
   "source": [
    "# sort\n",
    "browser_plot_info = browser_plot_info.sort_values('count', ascending=False)\n",
    "browser_plot_info = browser_plot_info.reset_index(drop=True)"
   ]
  },
  {
   "cell_type": "code",
   "execution_count": 106,
   "metadata": {},
   "outputs": [
    {
     "data": {
      "text/plain": [
       "Text(0.5,1,'mean revenue')"
      ]
     },
     "execution_count": 106,
     "metadata": {},
     "output_type": "execute_result"
    },
    {
     "data": {
      "image/png": "[encoded data removed]",
      "text/plain": [
       "<Figure size 1152x864 with 3 Axes>"
      ]
     },
     "metadata": {},
     "output_type": "display_data"
    }
   ],
   "source": [
    "# histogram plot\n",
    "browser_plot_info = browser_plot_info.head(10)\n",
    "plt.figure(figsize=(16, 12))\n",
    "plt.subplot(3, 1, 1)\n",
    "plt.bar(browser_plot_info['device.browser'], browser_plot_info['count'])\n",
    "plt.xlabel('browser type')\n",
    "plt.ylabel('count')\n",
    "plt.title('count')\n",
    "plt.subplot(3, 1, 2)\n",
    "plt.bar(browser_plot_info['device.browser'], browser_plot_info['count_nonzero'])\n",
    "plt.xlabel('browser type')\n",
    "plt.ylabel('count non zeros')\n",
    "plt.title('count non zeros')\n",
    "plt.subplot(3, 1, 3)\n",
    "plt.bar(browser_plot_info['device.browser'], browser_plot_info['mean'])\n",
    "plt.xlabel('browser type')\n",
    "plt.ylabel('mean revenue')\n",
    "plt.title('mean revenue')"
   ]
  },
  {
   "cell_type": "code",
   "execution_count": null,
   "metadata": {},
   "outputs": [],
   "source": []
  },
  {
   "cell_type": "code",
   "execution_count": null,
   "metadata": {},
   "outputs": [],
   "source": []
  }
 ],
 "metadata": {
  "kernelspec": {
   "display_name": "Python 3",
   "language": "python",
   "name": "python3"
  },
  "language_info": {
   "codemirror_mode": {
    "name": "ipython",
    "version": 3
   },
   "file_extension": ".py",
   "mimetype": "text/x-python",
   "name": "python",
   "nbconvert_exporter": "python",
   "pygments_lexer": "ipython3",
   "version": "3.6.5"
  }
 },
 "nbformat": 4,
 "nbformat_minor": 2
}
